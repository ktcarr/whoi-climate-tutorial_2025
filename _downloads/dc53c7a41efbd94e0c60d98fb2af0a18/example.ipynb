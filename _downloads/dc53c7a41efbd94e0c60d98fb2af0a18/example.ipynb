{
 "cells": [
  {
   "cell_type": "markdown",
   "id": "e7fe68a3-a1e0-45e5-aa9c-d32f1c930f56",
   "metadata": {},
   "source": [
    "# Intermodel comparison example\n",
    "{download}`Download notebook<./example.ipynb>`"
   ]
  },
  {
   "cell_type": "markdown",
   "id": "2b513de2-4739-4469-b4b4-e8e2b07716f5",
   "metadata": {},
   "source": [
    "## Packages"
   ]
  },
  {
   "cell_type": "code",
   "execution_count": null,
   "id": "ba5dcce2-95b2-4afc-8639-306dcd38d107",
   "metadata": {
    "editable": true,
    "slideshow": {
     "slide_type": ""
    },
    "tags": []
   },
   "outputs": [],
   "source": [
    "import xarray as xr\n",
    "import cftime\n",
    "import os.path\n",
    "import pandas as pd\n",
    "import numpy as np\n",
    "import matplotlib.pyplot as plt\n",
    "import cmocean\n",
    "import seaborn as sns\n",
    "import pathlib\n",
    "import tqdm\n",
    "import warnings\n",
    "import cartopy.crs as ccrs\n",
    "import matplotlib.ticker as mticker\n",
    "import matplotlib.patches as mpatches\n",
    "import copy\n",
    "\n",
    "## (optional) remove gridlines from plots\n",
    "sns.set(rc={\"axes.facecolor\": \"white\", \"axes.grid\": False})"
   ]
  },
  {
   "cell_type": "markdown",
   "id": "3d9e31b4-eaca-47d9-99c3-f63eb5d60ffe",
   "metadata": {
    "editable": true,
    "slideshow": {
     "slide_type": ""
    },
    "tags": []
   },
   "source": [
    "## Functions"
   ]
  },
  {
   "cell_type": "code",
   "execution_count": null,
   "id": "139dbb07-6635-4ffe-bc53-1e30af2d23ed",
   "metadata": {
    "editable": true,
    "slideshow": {
     "slide_type": ""
    },
    "tags": [
     "hide-input"
    ]
   },
   "outputs": [],
   "source": [
    "def trim(data, lon_range, lat_range):\n",
    "    \"\"\"select part of data in given longitude/latitude range\"\"\"\n",
    "\n",
    "    ## helper function to check if 'x' is in 'x_range'\n",
    "    isin_range = lambda x, x_range: (x_range[0] <= x) & (x <= x_range[1])\n",
    "\n",
    "    ## get mask for data in given lon/lat range\n",
    "    in_lon_range = isin_range(data[\"lon\"], lon_range)\n",
    "    in_lat_range = isin_range(data[\"lat\"], lat_range)\n",
    "    in_lonlat_range = in_lon_range & in_lat_range\n",
    "\n",
    "    ## load to memory\n",
    "    in_lonlat_range.load()\n",
    "\n",
    "    ## Retain all points with at least one valid grid cell\n",
    "    x_idx = in_lonlat_range.any(\"nlat\")\n",
    "    y_idx = in_lonlat_range.any(\"nlon\")\n",
    "\n",
    "    ## select given points\n",
    "    return data.isel({\"nlon\": x_idx, \"nlat\": y_idx})\n",
    "\n",
    "\n",
    "def plot_setup(\n",
    "    fig, projection, lon_range, lat_range, posn=(1, 1, 1), xticks=None, yticks=None\n",
    "):\n",
    "    \"\"\"Add a subplot to the figure with the given map projection\n",
    "    and lon/lat range. Returns an Axes object.\"\"\"\n",
    "\n",
    "    ## increase resolution for projection\n",
    "    ## (otherwise lines plotted on surface won't follow curved trajectories)\n",
    "    projection.threshold /= 1000\n",
    "\n",
    "    ## Create subplot with given projection\n",
    "    ax = fig.add_subplot(*posn, projection=projection)\n",
    "\n",
    "    ## Subset to given region\n",
    "    extent = [*lon_range, *lat_range]\n",
    "    ax.set_extent(extent, crs=ccrs.PlateCarree())\n",
    "\n",
    "    ## draw coastlines\n",
    "    ax.coastlines(linewidths=0.5)\n",
    "\n",
    "    ## add tick labels\n",
    "    if xticks is not None:\n",
    "\n",
    "        ## add lon/lat labels\n",
    "        gl = ax.gridlines(\n",
    "            draw_labels=True,\n",
    "            linestyle=\"-\",\n",
    "            alpha=0.1,\n",
    "            linewidth=0.5,\n",
    "            color=\"k\",\n",
    "            zorder=1.05,\n",
    "        )\n",
    "\n",
    "        ## specify which axes to label\n",
    "        gl.top_labels = False\n",
    "        gl.right_labels = False\n",
    "\n",
    "        ## specify ticks\n",
    "        gl.ylocator = mticker.FixedLocator(yticks)\n",
    "        gl.xlocator = mticker.FixedLocator(xticks)\n",
    "\n",
    "    return ax\n",
    "\n",
    "\n",
    "def plot_box_outline(ax, lon_range, lat_range, c=\"k\"):\n",
    "    \"\"\"\n",
    "    Plot box outlining the specifed lon/lat range on given\n",
    "    ax object.\n",
    "    \"\"\"\n",
    "\n",
    "    ## get width and height\n",
    "    height = lat_range[1] - lat_range[0]\n",
    "    width = lon_range[1] - lon_range[0]\n",
    "\n",
    "    ## add rectangle to plot\n",
    "    ax.add_patch(\n",
    "        mpatches.Rectangle(\n",
    "            xy=[lon_range[0], lat_range[0]],\n",
    "            height=height,\n",
    "            width=width,\n",
    "            transform=ccrs.PlateCarree(),\n",
    "            facecolor=\"none\",\n",
    "            edgecolor=c,\n",
    "            linewidth=1,\n",
    "        )\n",
    "    )\n",
    "\n",
    "    return ax\n",
    "\n",
    "\n",
    "def plot_setup_atlantic(fig, posn=(1, 1, 1)):\n",
    "    \"\"\"Plot Atlantic region\"\"\"\n",
    "\n",
    "    # ## adjust figure size\n",
    "    # fig.set_size_inches(7.5, 3.75)\n",
    "\n",
    "    ## specify map projection\n",
    "    proj = ccrs.Orthographic(central_longitude=-50, central_latitude=40)\n",
    "\n",
    "    ## get ax object\n",
    "    ax = plot_setup(\n",
    "        fig,\n",
    "        proj,\n",
    "        lon_range=[-90, -10],\n",
    "        lat_range=[20, 60],\n",
    "        xticks=[-80, -50, -20],\n",
    "        yticks=[25, 45],\n",
    "        posn=posn,\n",
    "    )\n",
    "\n",
    "    return ax\n",
    "\n",
    "\n",
    "def plot_setup_woodshole(fig):\n",
    "    \"\"\"Plot zoomed-in view of Woods Hole\"\"\"\n",
    "\n",
    "    ## adjust figure size\n",
    "    fig.set_size_inches(5, 3)\n",
    "\n",
    "    ## set map projection to orthographic\n",
    "    proj = ccrs.Orthographic(central_longitude=-67.5, central_latitude=40)\n",
    "\n",
    "    ## Get ax object based on generic plotting function\n",
    "    ax = plot_setup(\n",
    "        fig,\n",
    "        proj,\n",
    "        lon_range=[-80, -60],\n",
    "        lat_range=[35, 45],\n",
    "        xticks=[-80, -70, -60],\n",
    "        yticks=[35, 40, 45],\n",
    "    )\n",
    "\n",
    "    return fig, ax\n",
    "\n",
    "\n",
    "def make_cb_range(amp, delta):\n",
    "    \"\"\"Make colorbar_range for cmo.balance\n",
    "    Args:\n",
    "        - 'amp': amplitude of maximum value for colorbar\n",
    "        - 'delta': increment for colorbar\n",
    "    \"\"\"\n",
    "    return np.concatenate(\n",
    "        [np.arange(-amp, 0, delta), np.arange(delta, amp + delta, delta)]\n",
    "    )\n",
    "\n",
    "\n",
    "def get_filepath(server_fp, model_center, model):\n",
    "    \"\"\"get filepath to given model output\"\"\"\n",
    "\n",
    "    ## Path to cmip6 server\n",
    "    cmip_fp = server_fp / pathlib.Path(\"cmip6/data/cmip6/CMIP\")\n",
    "\n",
    "    ## suffix (shared by all models)\n",
    "    suffix = pathlib.Path(\"1pctCO2/r1i1p1f1/Omon/tos/gn/1\")\n",
    "\n",
    "    return pathlib.Path(cmip_fp, model_center, model, suffix)\n",
    "\n",
    "\n",
    "def get_grid_mask(data, x_coord=\"lon\", y_coord=\"lat\"):\n",
    "    \"\"\"get mask for NaN values (useful for xesmf regridder)\"\"\"\n",
    "\n",
    "    ## drop time as a coordinate\n",
    "    if \"time\" in data.dims:\n",
    "        data0 = data.isel(time=0).drop_vars(\"time\")\n",
    "    else:\n",
    "        data0 = data\n",
    "\n",
    "    return xr.where(~np.isnan(data0[\"tos\"]), 1, 0).compute()\n",
    "\n",
    "\n",
    "def get_grid(server_fp, lon_range, lat_range):\n",
    "    \"\"\"Get grid based on lon/lat grid for given CESM2\"\"\"\n",
    "\n",
    "    ## get filepath\n",
    "    fp = get_filepath(server_fp, model_center=\"NCAR\", model=\"CESM2\")\n",
    "    filename = list(fp.glob(\"*.nc\"))[0]\n",
    "\n",
    "    ## load first timestep for cesm2 (ignore serialization warning)\n",
    "    with warnings.catch_warnings():\n",
    "        warnings.simplefilter(\"ignore\", category=xr.SerializationWarning)\n",
    "        data = xr.open_dataset(filename).isel(time=0)\n",
    "\n",
    "    ## drop time as a coord\n",
    "    data = data.drop_vars(\"time\")\n",
    "\n",
    "    ## trim in lon/lat space\n",
    "    data = trim(data, lon_range, lat_range)\n",
    "\n",
    "    ## get grid\n",
    "    grid = data[[\"lon\", \"lat\"]]\n",
    "\n",
    "    ## mask NaN values\n",
    "    grid[\"mask\"] = get_grid_mask(data)\n",
    "\n",
    "    return grid.compute()\n",
    "\n",
    "\n",
    "def load_model_fromserver(server_fp, grid, model_center, model, **load_kwargs):\n",
    "    \"\"\"Load data for given model\"\"\"\n",
    "\n",
    "    ## get filepath\n",
    "    fp = get_filepath(server_fp, model_center=model_center, model=model)\n",
    "\n",
    "    ## specify args for loading data\n",
    "    load_kwargs = dict(\n",
    "        decode_times=False,\n",
    "        mask_and_scale=True,\n",
    "        chunks=dict(time=3000),\n",
    "        coords=\"minimal\",\n",
    "        data_vars=\"minimal\",\n",
    "        concat_dim=\"time\",\n",
    "        combine=\"nested\",\n",
    "        compat=\"override\",\n",
    "    )\n",
    "\n",
    "    ## load data (ignore serialization warning)\n",
    "    with warnings.catch_warnings():\n",
    "        warnings.simplefilter(\"ignore\", category=xr.SerializationWarning)\n",
    "        data = xr.open_mfdataset(fp.glob(\"*nc\"), **load_kwargs).compute()\n",
    "\n",
    "    ## get mask of NaN values\n",
    "    data[\"mask\"] = get_grid_mask(data)\n",
    "\n",
    "    ## regrid\n",
    "    with warnings.catch_warnings():\n",
    "        warnings.simplefilter(\"ignore\")\n",
    "        regridder = xe.Regridder(data, grid, \"bilinear\", ignore_degenerate=True)\n",
    "        data = regridder(data)\n",
    "\n",
    "    ## reset time axis\n",
    "    time = pd.date_range(start=\"1850-01\", freq=\"MS\", periods=len(data.time))\n",
    "    data[\"time\"] = time\n",
    "\n",
    "    ## get annual average\n",
    "    data = data.groupby(\"time.year\").mean()\n",
    "\n",
    "    return data[\"tos\"].rename(f\"{model_center}_{model}\")\n",
    "\n",
    "\n",
    "def load_model(server_fp, save_fp, grid, model_center, model):\n",
    "    \"\"\"load data for given model, re-gridded to specified grid\"\"\"\n",
    "\n",
    "    ## get save filepath\n",
    "    fp = pathlib.Path(save_fp, f\"{model_center}_{model}.nc\")\n",
    "\n",
    "    if fp.is_file():\n",
    "\n",
    "        data = xr.open_dataarray(fp)\n",
    "\n",
    "    else:\n",
    "\n",
    "        ## load data from file\n",
    "        data = load_model_fromserver(\n",
    "            server_fp,\n",
    "            grid,\n",
    "            model_center,\n",
    "            model,\n",
    "        )\n",
    "\n",
    "        ## save to file\n",
    "        data.to_netcdf(fp)\n",
    "\n",
    "    return data\n",
    "\n",
    "\n",
    "def sort_longitude(data):\n",
    "    \"\"\"shuffles data so that longitude is monotonically increasing\"\"\"\n",
    "\n",
    "    ## Transpose data so that longitude is last dimension\n",
    "    ## (we'll do all the sorting along this dimension)\n",
    "    data = data.transpose(..., \"nlon\")\n",
    "\n",
    "    ## Get indices needed to sort longitude to be monotonic increasing\n",
    "    lon_sort_idx = np.argsort(data[\"lon\"].values, axis=-1)\n",
    "\n",
    "    ## sort the lon/lat coordindates\n",
    "    sort = lambda X, idx: np.take_along_axis(X.values, indices=idx, axis=-1)\n",
    "    data[\"lon\"].values = sort(data[\"lon\"], idx=lon_sort_idx)\n",
    "    data[\"lat\"].values = sort(data[\"lat\"], idx=lon_sort_idx)\n",
    "\n",
    "    #### sort the data\n",
    "\n",
    "    # first, check to see if data has more than two dimensions\n",
    "    if data.ndim > 2:\n",
    "        extra_dims = [i for i in range(data.ndim - 2)]\n",
    "        lon_sort_idx = np.expand_dims(lon_sort_idx, axis=extra_dims)\n",
    "\n",
    "    ## now, do the actual sorting\n",
    "    data.values = sort(data, idx=lon_sort_idx)\n",
    "\n",
    "    return data\n",
    "\n",
    "\n",
    "def swap_longitude_range(data):\n",
    "    \"\"\"swap longitude range of xr.DataArray from [0,360) to (-180, 180].\n",
    "    Handles case with 2-dimension longitude coordinates ('lon')\"\"\"\n",
    "\n",
    "    ## make copy of longitude coordinate to be modified\n",
    "    lon_new = copy.deepcopy(data.lon.values)\n",
    "\n",
    "    ## relabel values greater than 180\n",
    "    exceeds_180 = lon_new > 180\n",
    "    lon_new[exceeds_180] = -360 + lon_new[exceeds_180]\n",
    "\n",
    "    ## Update the coordinate on the xarray object\n",
    "    data[\"lon\"].values = lon_new\n",
    "\n",
    "    return data\n",
    "\n",
    "\n",
    "def load_models(server_fp, save_fp, grid, model_names):\n",
    "    \"\"\"Load output from all models\"\"\"\n",
    "\n",
    "    ## empty list to hold models\n",
    "    data = []\n",
    "\n",
    "    ## shared arguments\n",
    "    kwargs = dict(server_fp=server_fp, save_fp=save_fp, grid=grid)\n",
    "\n",
    "    ## loop thru models\n",
    "    for model_name in tqdm.tqdm(model_names):\n",
    "\n",
    "        ## unwrap model center/name\n",
    "        model_center, model = model_name\n",
    "\n",
    "        ## load data for the  model\n",
    "        data.append(load_model(model_center=model_center, model=model, **kwargs))\n",
    "\n",
    "    ## merge into single dataset\n",
    "    data = xr.merge(data).isel(year=slice(None, 150))\n",
    "\n",
    "    ## convert from dataset to dataarray\n",
    "    data = data.to_dataarray(dim=\"model\")\n",
    "\n",
    "    return data"
   ]
  },
  {
   "cell_type": "markdown",
   "id": "930a90ae-3f1c-4e73-b08c-14ec524f308d",
   "metadata": {
    "editable": true,
    "slideshow": {
     "slide_type": ""
    },
    "tags": []
   },
   "source": [
    "## Data loading"
   ]
  },
  {
   "cell_type": "markdown",
   "id": "cc119b56-f975-4ff7-b6d4-8142fe10f28f",
   "metadata": {
    "editable": true,
    "slideshow": {
     "slide_type": ""
    },
    "tags": []
   },
   "source": [
    "````{admonition} To-do\n",
    "Update the ```SERVER_FP``` and ```SAVE_FP``` in the code cell below (intermediate results will be saved to ```SAVE_FP```).\n",
    "````"
   ]
  },
  {
   "cell_type": "code",
   "execution_count": null,
   "id": "ca63172d-41b4-4016-ba73-772a8b4483c8",
   "metadata": {
    "editable": true,
    "slideshow": {
     "slide_type": ""
    },
    "tags": []
   },
   "outputs": [],
   "source": [
    "## Path to file server\n",
    "server_fp = pathlib.Path(\"/Volumes\")\n",
    "save_fp = pathlib.Path(\"./data\")"
   ]
  },
  {
   "cell_type": "markdown",
   "id": "200a8089-a6bc-44ae-856d-d4f8e560b830",
   "metadata": {
    "editable": true,
    "slideshow": {
     "slide_type": ""
    },
    "tags": []
   },
   "source": [
    "### Do the dataloading"
   ]
  },
  {
   "cell_type": "markdown",
   "id": "55810ed4-7343-424a-8d65-840f1772aaa5",
   "metadata": {
    "editable": true,
    "slideshow": {
     "slide_type": ""
    },
    "tags": []
   },
   "source": [
    "````{warning} \n",
    "1. **Loading the data from the CMIP server is slow** ($\\sim 15$ minutes on a laptop). To avoid this step, download [the trimmed data from Google Drive](https://drive.google.com/drive/folders/1ghkCtBgynHOy18LZdvIsiVHcWiPKkuYq?usp=sharing) (then unzip the file and save it to the same directory as this notebook). If you choose to load the data from the server, the loading function (```load_model```) will save the pre-processed data to a file (and load it, if it already exists), so the cell below will run much faster the second time around.\n",
    "\n",
    "2. **Loading the data from the CMIP server requires the ```xesmf``` package**. If not already installed, you can install it with:  \n",
    "```mamba install -c conda-forge xesmf```. You don't need this package if using the pre-computed data from Google Drive.\n",
    "````"
   ]
  },
  {
   "cell_type": "code",
   "execution_count": null,
   "id": "62c5f83e-a918-4616-8661-9f1bd6219ae8",
   "metadata": {
    "editable": true,
    "slideshow": {
     "slide_type": ""
    },
    "tags": []
   },
   "outputs": [],
   "source": [
    "## comment out this import if you are using data from Google Drive\n",
    "## (and don't have xesmf installed)\n",
    "import xesmf as xe\n",
    "\n",
    "## list of (model center, model) tuples\n",
    "model_names = [\n",
    "    (\"NCAR\", \"CESM2\"),\n",
    "    (\"NCAR\", \"CESM2-WACCM\"),\n",
    "    (\"CSIRO\", \"ACCESS-ESM1-5\"),\n",
    "    (\"MIROC\", \"MIROC6\"),\n",
    "    (\"MPI-M\", \"MPI-ESM1-2-LR\"),\n",
    "    (\"IPSL\", \"IPSL-CM6A-LR\"),\n",
    "    (\"NASA-GISS\", \"GISS-E2-2-G\"),\n",
    "]\n",
    "\n",
    "## get target grid\n",
    "grid = get_grid(server_fp, lon_range=[260, 360], lat_range=[10, 70])\n",
    "\n",
    "## load data\n",
    "kwargs = dict(server_fp=server_fp, save_fp=save_fp, grid=grid, model_names=model_names)\n",
    "data = load_models(**kwargs)\n",
    "\n",
    "## swap longitude range from [0,360) to (-180, 180]\n",
    "data = swap_longitude_range(data)\n",
    "\n",
    "## make sure longitude is in ascending order\n",
    "data = sort_longitude(data)"
   ]
  },
  {
   "cell_type": "markdown",
   "id": "d840245a-90bb-46cc-9a26-05e3b87d2138",
   "metadata": {
    "editable": true,
    "slideshow": {
     "slide_type": ""
    },
    "tags": []
   },
   "source": [
    "## Analysis"
   ]
  },
  {
   "cell_type": "markdown",
   "id": "46b236d3-ce38-4288-a9c5-990396bda14b",
   "metadata": {
    "editable": true,
    "slideshow": {
     "slide_type": ""
    },
    "tags": []
   },
   "source": [
    "Compute climatology and change over time"
   ]
  },
  {
   "cell_type": "code",
   "execution_count": null,
   "id": "819b6bb9-0beb-487c-9604-1bcf3efa7e08",
   "metadata": {
    "editable": true,
    "slideshow": {
     "slide_type": ""
    },
    "tags": []
   },
   "outputs": [],
   "source": [
    "## Get change (last 30 yrs minus first 30)\n",
    "first30 = data.isel(year=slice(None, 30)).mean(\"year\")\n",
    "last30 = data.isel(year=slice(-30, None)).mean(\"year\")\n",
    "change = (last30 - first30).mean(\"model\")"
   ]
  },
  {
   "cell_type": "markdown",
   "id": "b13bb364-18ea-499e-9863-691784fb5f42",
   "metadata": {},
   "source": [
    "### Compare climatologies for two of the models"
   ]
  },
  {
   "cell_type": "markdown",
   "id": "c255658d-235f-429a-bf3f-3c68c70893d3",
   "metadata": {},
   "source": [
    "Compute climatologies and differencee"
   ]
  },
  {
   "cell_type": "code",
   "execution_count": null,
   "id": "9c05342e-849c-490e-a46b-09115cd18d19",
   "metadata": {},
   "outputs": [],
   "source": [
    "## specify models to compare\n",
    "model1 = \"IPSL_IPSL-CM6A-LR\"\n",
    "model2 = \"NASA-GISS_GISS-E2-2-G\"\n",
    "\n",
    "## compute climatologies and difference\n",
    "clim1 = first30.sel(model=model1).drop_vars(\"model\")\n",
    "clim2 = first30.sel(model=model2).drop_vars(\"model\")\n",
    "diff = clim1 - clim2"
   ]
  },
  {
   "cell_type": "code",
   "execution_count": null,
   "id": "73682f64-44b2-41b1-8b0a-8096fb678874",
   "metadata": {
    "editable": true,
    "slideshow": {
     "slide_type": ""
    },
    "tags": [
     "hide-inputs"
    ]
   },
   "outputs": [],
   "source": [
    "def plot_clim(ax, clim):\n",
    "    \"\"\"plot climatology on given ax object\"\"\"\n",
    "\n",
    "    ## plot data\n",
    "    p = ax.contourf(\n",
    "        clim.lon,\n",
    "        clim.lat,\n",
    "        clim,\n",
    "        cmap=\"cmo.thermal\",\n",
    "        levels=np.arange(-3, 30, 3),\n",
    "        transform=ccrs.PlateCarree(),\n",
    "        extend=\"both\",\n",
    "    )\n",
    "\n",
    "    ## plot outline of Woods Hole region\n",
    "    plot_box_outline(ax, lon_range=[287.5, 293.5], lat_range=[39, 44], c=\"magenta\")\n",
    "\n",
    "    ## plot outline of warming hole region\n",
    "    plot_box_outline(ax, lon_range=[323, 343], lat_range=[45, 55])\n",
    "\n",
    "    return p\n",
    "\n",
    "\n",
    "def plot_diff(ax, diff):\n",
    "    \"\"\"plot difference on given ax object\"\"\"\n",
    "\n",
    "    diff_plot = ax.contourf(\n",
    "        diff.lon,\n",
    "        diff.lat,\n",
    "        diff,\n",
    "        cmap=\"cmo.balance\",\n",
    "        levels=make_cb_range(5, 0.5),\n",
    "        extend=\"both\",\n",
    "        transform=ccrs.PlateCarree(),\n",
    "    )\n",
    "\n",
    "    ## plot outline of Woods Hole region\n",
    "    plot_box_outline(ax, lon_range=[287.5, 293.5], lat_range=[39, 44], c=\"magenta\")\n",
    "\n",
    "    ## plot outline of warming hole region\n",
    "    plot_box_outline(ax, lon_range=[323, 343], lat_range=[45, 55])\n",
    "\n",
    "    return diff_plot"
   ]
  },
  {
   "cell_type": "markdown",
   "id": "fc983d90-fc59-48ac-83b4-9d922a8e5ad6",
   "metadata": {},
   "source": [
    "````{admonition} To-do\n",
    "If you're not looking at Woods Hole, you may need to adapt the plotting function below (```plot_setup_atlantic```).\n",
    "````"
   ]
  },
  {
   "cell_type": "code",
   "execution_count": null,
   "id": "41adf9c8-13ef-410e-8029-c08c0ba72548",
   "metadata": {
    "editable": true,
    "slideshow": {
     "slide_type": ""
    },
    "tags": []
   },
   "outputs": [],
   "source": [
    "## setup plot\n",
    "fig = plt.figure(figsize=(5, 8), layout=\"constrained\")\n",
    "\n",
    "## generate axes objects for plotting\n",
    "ax1 = plot_setup_atlantic(fig, posn=(3, 1, 1))\n",
    "ax2 = plot_setup_atlantic(fig, posn=(3, 1, 2))\n",
    "ax3 = plot_setup_atlantic(fig, posn=(3, 1, 3))\n",
    "\n",
    "## plot climatologies of models\n",
    "for ax, clim, model in zip([ax1, ax2], [clim1, clim2], [model1, model2]):\n",
    "\n",
    "    ## plot data and label\n",
    "    p = plot_clim(ax, clim)\n",
    "    ax.set_title(model)\n",
    "    cb = fig.colorbar(p, ticks=[-3, 27], label=r\"$^{\\circ}$C\")\n",
    "\n",
    "\n",
    "## plot difference and label\n",
    "diff_plot = plot_diff(ax3, diff)\n",
    "ax3.set_title(\"Difference\")\n",
    "cb_diff = fig.colorbar(diff_plot, ticks=[-5, 5], label=r\"$^{\\circ}$C\")\n",
    "\n",
    "\n",
    "plt.show()"
   ]
  },
  {
   "cell_type": "markdown",
   "id": "9b60144b-d157-45dc-aa82-a1169fcf3f30",
   "metadata": {
    "editable": true,
    "slideshow": {
     "slide_type": ""
    },
    "tags": []
   },
   "source": [
    "### Plot ensemble-mean warming pattern"
   ]
  },
  {
   "cell_type": "code",
   "execution_count": null,
   "id": "db07d251-15ca-4df7-9e7d-6354f48c6548",
   "metadata": {
    "editable": true,
    "slideshow": {
     "slide_type": ""
    },
    "tags": []
   },
   "outputs": [],
   "source": [
    "fig = plt.figure(figsize=(5, 2.75), layout=\"constrained\")\n",
    "\n",
    "ax = plot_setup_atlantic(fig)\n",
    "\n",
    "## plot the difference\n",
    "plot_data = ax.pcolormesh(\n",
    "    change.lon,\n",
    "    change.lat,\n",
    "    change,\n",
    "    cmap=\"cmo.amp\",\n",
    "    vmax=4,\n",
    "    vmin=1,\n",
    "    transform=ccrs.PlateCarree(),\n",
    ")\n",
    "\n",
    "## plot the background state\n",
    "ax.contour(\n",
    "    first30.lon,\n",
    "    first30.lat,\n",
    "    first30.mean(\"model\"),\n",
    "    colors=\"w\",\n",
    "    levels=np.arange(-2, 34, 4),\n",
    "    transform=ccrs.PlateCarree(),\n",
    "    extend=\"both\",\n",
    "    linewidths=1,\n",
    "    alpha=0.7,\n",
    ")\n",
    "\n",
    "## make a colorbar\n",
    "cb = fig.colorbar(plot_data, ticks=[1, 4], label=r\"$^{\\circ}$C\")\n",
    "\n",
    "## plot outline of Woods Hole region\n",
    "ax = plot_box_outline(ax, lon_range=[287.5, 293.5], lat_range=[39, 44])\n",
    "\n",
    "## plot outline of warming hole region\n",
    "ax = plot_box_outline(ax, lon_range=[323, 343], lat_range=[45, 55])\n",
    "\n",
    "## label\n",
    "ax.set_title(r\"$\\Delta$(SST) b/n 1850-1880 and 1970-2000\")\n",
    "\n",
    "plt.show()"
   ]
  },
  {
   "cell_type": "markdown",
   "id": "3b9245b7-ab18-43f4-8953-35e466cc3917",
   "metadata": {
    "editable": true,
    "slideshow": {
     "slide_type": ""
    },
    "tags": []
   },
   "source": [
    "### Climate index"
   ]
  },
  {
   "cell_type": "markdown",
   "id": "33c4bca4-852f-4e57-937b-f69ad9b24221",
   "metadata": {
    "editable": true,
    "slideshow": {
     "slide_type": ""
    },
    "tags": []
   },
   "source": [
    "#### Compute index"
   ]
  },
  {
   "cell_type": "markdown",
   "id": "60000472-e478-41bf-8b6c-347e4d604f24",
   "metadata": {
    "editable": true,
    "slideshow": {
     "slide_type": ""
    },
    "tags": []
   },
   "source": [
    "````{admonition} To-do\n",
    "If you'd like to look at a different index, modify the function below.\n",
    "````"
   ]
  },
  {
   "cell_type": "code",
   "execution_count": null,
   "id": "ea95a1f0-c052-4c41-8fdb-fe27b7cc6fa7",
   "metadata": {
    "editable": true,
    "slideshow": {
     "slide_type": ""
    },
    "tags": []
   },
   "outputs": [],
   "source": [
    "def compute_T_wh(x):\n",
    "    \"\"\"Compute Woods Hole temperature index\"\"\"\n",
    "\n",
    "    ## compute spatial average\n",
    "    return trim(x, lon_range=[-72.5, -66.5], lat_range=[39, 44]).mean([\"nlon\", \"nlat\"])"
   ]
  },
  {
   "cell_type": "markdown",
   "id": "b69fe666-38c3-4cbe-80f5-fb099a7f27aa",
   "metadata": {
    "editable": true,
    "slideshow": {
     "slide_type": ""
    },
    "tags": []
   },
   "source": [
    "Do computation here"
   ]
  },
  {
   "cell_type": "code",
   "execution_count": null,
   "id": "d346a460-f6d2-4323-a980-a819fea1a01e",
   "metadata": {
    "editable": true,
    "slideshow": {
     "slide_type": ""
    },
    "tags": []
   },
   "outputs": [],
   "source": [
    "## do the computation here\n",
    "idx = compute_T_wh(data)\n",
    "\n",
    "## normalize by removing mean of first 30 years\n",
    "idx_base = idx.isel(year=slice(None, 30)).mean(\"year\")\n",
    "idx_end = idx.isel(year=slice(-30, None)).mean(\"year\")\n",
    "idx_norm = idx - idx_base\n",
    "\n",
    "## get change in index\n",
    "idx_change = idx_end - idx_base"
   ]
  },
  {
   "cell_type": "markdown",
   "id": "64a5bf46-a662-477c-8118-865bc012e247",
   "metadata": {
    "editable": true,
    "slideshow": {
     "slide_type": ""
    },
    "tags": []
   },
   "source": [
    "#### Change over time"
   ]
  },
  {
   "cell_type": "code",
   "execution_count": null,
   "id": "5d82e6c9-a14d-4aac-9828-65b6d39aa138",
   "metadata": {
    "editable": true,
    "slideshow": {
     "slide_type": ""
    },
    "tags": []
   },
   "outputs": [],
   "source": [
    "fig, axs = plt.subplots(1, 2, figsize=(7, 3), layout=\"constrained\")\n",
    "\n",
    "## first, plot the raw data; then, plot the normalized data\n",
    "for i, idx_ in enumerate([idx, idx_norm]):\n",
    "\n",
    "    ## loop through each model\n",
    "    for model in idx_.model.values:\n",
    "\n",
    "        label = model.split(\"_\", 1)[1]\n",
    "        axs[i].plot(idx_.year, idx_.sel(model=model), label=label, lw=1)\n",
    "\n",
    "## plot ensemble mean\n",
    "axs[1].plot(idx_.year, idx_.mean(\"model\"), label=\"mean\", lw=2, c=\"k\")\n",
    "\n",
    "## label and format\n",
    "axs[0].set_title(\"Raw index\")\n",
    "axs[1].set_title(\"Change from first 30 yrs\")\n",
    "axs[1].legend(prop={\"size\": 7})\n",
    "axs[0].set_yticks([11, 16, 21])\n",
    "axs[1].set_yticks([0, 3, 6])\n",
    "axs[1].yaxis.tick_right()\n",
    "axs[1].yaxis.set_label_position(\"right\")\n",
    "for ax in axs:\n",
    "    ax.set_xlabel(\"Year\")\n",
    "    ax.set_ylabel(r\"$^{\\circ}$C\")\n",
    "\n",
    "plt.show()"
   ]
  },
  {
   "cell_type": "markdown",
   "id": "4ae04dde-8336-4bfd-8c6c-925caccd12bd",
   "metadata": {
    "editable": true,
    "slideshow": {
     "slide_type": ""
    },
    "tags": []
   },
   "source": [
    "#### Change vs. climatology"
   ]
  },
  {
   "cell_type": "code",
   "execution_count": null,
   "id": "8fede020-c372-442d-9384-c86d1d7e9c5c",
   "metadata": {
    "editable": true,
    "slideshow": {
     "slide_type": ""
    },
    "tags": []
   },
   "outputs": [],
   "source": [
    "## specify markers and colors to use in plot\n",
    "markers = [\"*\", \"+\", \"s\", \"<\", \"v\", \"o\", \"P\"]\n",
    "colors = sns.color_palette()[: len(markers)]\n",
    "\n",
    "## plot\n",
    "fig, ax = plt.subplots(figsize=(4.5, 3), layout=\"constrained\")\n",
    "\n",
    "## loop thru models\n",
    "for model, m, c in zip(idx_base.model, markers, colors):\n",
    "\n",
    "    ## get label\n",
    "    label = model.values.item().split(\"_\", 1)[1]\n",
    "\n",
    "    ## plot datapoint\n",
    "    ax.scatter(\n",
    "        idx_base.sel(model=model),\n",
    "        idx_change.sel(model=model),\n",
    "        marker=m,\n",
    "        color=c,\n",
    "        s=100,\n",
    "        label=label,\n",
    "    )\n",
    "\n",
    "## label/format plot\n",
    "ax.legend(prop=dict(size=8), loc=(1.2, 0.2))\n",
    "ax.set_xticks([12, 15, 18])\n",
    "ax.set_yticks([2, 4, 6])\n",
    "ax.set_xlabel(r\"SST$_{1850}$ ($^{\\circ}$C)\")\n",
    "ax.set_ylabel(r\"$\\Delta$ SST ($^{\\circ}$C)\")\n",
    "\n",
    "plt.show()"
   ]
  }
 ],
 "metadata": {
  "kernelspec": {
   "display_name": "Python 3 (ipykernel)",
   "language": "python",
   "name": "python3"
  },
  "language_info": {
   "codemirror_mode": {
    "name": "ipython",
    "version": 3
   },
   "file_extension": ".py",
   "mimetype": "text/x-python",
   "name": "python",
   "nbconvert_exporter": "python",
   "pygments_lexer": "ipython3",
   "version": "3.11.12"
  }
 },
 "nbformat": 4,
 "nbformat_minor": 5
}
