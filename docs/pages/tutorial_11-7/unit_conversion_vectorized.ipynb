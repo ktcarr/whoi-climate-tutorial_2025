{
 "cells": [
  {
   "cell_type": "code",
   "execution_count": 1,
   "id": "4f2fdc1f-c977-4826-a5fc-b893b92c7455",
   "metadata": {},
   "outputs": [],
   "source": [
    "import copy\n",
    "import xarray as xr\n",
    "import numpy as np\n",
    "import pathlib\n",
    "import time"
   ]
  },
  {
   "cell_type": "markdown",
   "id": "1a55d0e6-9b13-4cd6-b429-accff1577979",
   "metadata": {},
   "source": [
    "# Filepaths"
   ]
  },
  {
   "cell_type": "code",
   "execution_count": 2,
   "id": "5ae92f95-011f-4ae2-b1b4-04948f7d2b8b",
   "metadata": {},
   "outputs": [],
   "source": [
    "## Path to server\n",
    "server_fp = pathlib.Path(\"/Volumes\")\n",
    "\n",
    "## Filepath to the CESM2 historical model output\n",
    "cesm_fp = pathlib.Path(\"cmip6/data/cmip6/CMIP/NCAR/CESM2/historical/r1i1p1f1\")\n",
    "\n",
    "## filepath to data\n",
    "cesm_fp_pre = server_fp / cesm_fp / pathlib.Path(\"Amon/pr/gn/1\")"
   ]
  },
  {
   "cell_type": "markdown",
   "id": "b7038e82-b6e4-41fa-997e-572603497516",
   "metadata": {},
   "source": [
    "# Load data and trim to Pacific"
   ]
  },
  {
   "cell_type": "code",
   "execution_count": 3,
   "id": "a96a9536-5200-4bc1-95fa-1d7d4a5a6f64",
   "metadata": {},
   "outputs": [
    {
     "name": "stderr",
     "output_type": "stream",
     "text": [
      "/Users/theo/research/12860_tutorial/envs/lib/python3.11/site-packages/xarray/conventions.py:286: SerializationWarning: variable 'pr' has multiple fill values {np.float32(1e+20), np.float64(1e+20)} defined, decoding all values to NaN.\n",
      "  var = coder.decode(var, name=name)\n"
     ]
    }
   ],
   "source": [
    "## open data\n",
    "cesm_hist_pre = xr.open_mfdataset(cesm_fp_pre.glob(\"*.nc\"))\n",
    "\n",
    "## trim to area\n",
    "cesm_hist_pre = cesm_hist_pre[\"pr\"].sel(lat=slice(-30, 30), lon=slice(100, 300))"
   ]
  },
  {
   "cell_type": "markdown",
   "id": "490178c7-9c90-47e6-abe3-d4dbdc8344c7",
   "metadata": {},
   "source": [
    "# Do the conversion (and time it)"
   ]
  },
  {
   "cell_type": "code",
   "execution_count": 4,
   "id": "b7461d31-5920-44f2-afaf-093c33887564",
   "metadata": {},
   "outputs": [
    {
     "name": "stdout",
     "output_type": "stream",
     "text": [
      "Elapsed time: 84.41 seconds\n"
     ]
    }
   ],
   "source": [
    "## get number of days per month\n",
    "num_days = cesm_hist_pre.time.dt.days_in_month\n",
    "\n",
    "## Create new array with updated units (don't do the computation yet, though)\n",
    "cesm_hist_pre_m = cesm_hist_pre * num_days * 24 * 60 * 60 / 1000\n",
    "\n",
    "## Do the computation and time it\n",
    "t0 = time.time()\n",
    "cesm_hist_pre_m.load()\n",
    "t1 = time.time()\n",
    "\n",
    "print(f\"Elapsed time: {t1-t0:.2f} seconds\")"
   ]
  },
  {
   "cell_type": "markdown",
   "id": "163ccf02-e4ae-4448-aa85-6b520539ebfc",
   "metadata": {},
   "source": [
    "# Check it gives same result as loop"
   ]
  },
  {
   "cell_type": "code",
   "execution_count": 19,
   "id": "95aa7400-0dee-4206-9119-c761399b09d0",
   "metadata": {},
   "outputs": [
    {
     "name": "stdout",
     "output_type": "stream",
     "text": [
      "True\n"
     ]
    }
   ],
   "source": [
    "lat_idx, lon_idx = 30, 101\n",
    "time = \"2001-02\"\n",
    "conversion_factor = 28 * (24 * 60 * 60 / 1000)\n",
    "\n",
    "print(\n",
    "    np.allclose(\n",
    "        cesm_hist_pre.isel(lat=lat_idx, lon=lon_idx).sel(time=time).compute()\n",
    "        * conversion_factor,\n",
    "        cesm_hist_pre_m.isel(lat=lat_idx, lon=lon_idx).sel(time=time),\n",
    "    )\n",
    ")"
   ]
  }
 ],
 "metadata": {
  "kernelspec": {
   "display_name": "Python 3 (ipykernel)",
   "language": "python",
   "name": "python3"
  },
  "language_info": {
   "codemirror_mode": {
    "name": "ipython",
    "version": 3
   },
   "file_extension": ".py",
   "mimetype": "text/x-python",
   "name": "python",
   "nbconvert_exporter": "python",
   "pygments_lexer": "ipython3",
   "version": "3.11.10"
  }
 },
 "nbformat": 4,
 "nbformat_minor": 5
}
