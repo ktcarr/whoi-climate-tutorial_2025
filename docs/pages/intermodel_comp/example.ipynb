{
 "cells": [
  {
   "cell_type": "markdown",
   "id": "e7fe68a3-a1e0-45e5-aa9c-d32f1c930f56",
   "metadata": {},
   "source": [
    "# Intermodel comparison example"
   ]
  },
  {
   "cell_type": "markdown",
   "id": "2b513de2-4739-4469-b4b4-e8e2b07716f5",
   "metadata": {},
   "source": [
    "## Packages"
   ]
  },
  {
   "cell_type": "code",
   "execution_count": null,
   "id": "ba5dcce2-95b2-4afc-8639-306dcd38d107",
   "metadata": {},
   "outputs": [],
   "source": [
    "import xarray as xr\n",
    "import cftime\n",
    "import os.path\n",
    "import pandas as pd\n",
    "import numpy as np\n",
    "import time\n",
    "import matplotlib.pyplot as plt\n",
    "import seaborn as sns\n",
    "import pathlib\n",
    "import tqdm\n",
    "import warnings\n",
    "import xesmf as xe\n",
    "\n",
    "## (optional) remove gridlines from plots\n",
    "sns.set(rc={\"axes.facecolor\": \"white\", \"axes.grid\": False})"
   ]
  },
  {
   "cell_type": "markdown",
   "id": "3d9e31b4-eaca-47d9-99c3-f63eb5d60ffe",
   "metadata": {},
   "source": [
    "## Functions"
   ]
  },
  {
   "cell_type": "code",
   "execution_count": null,
   "id": "139dbb07-6635-4ffe-bc53-1e30af2d23ed",
   "metadata": {},
   "outputs": [],
   "source": [
    "def trim(data, lon_range, lat_range):\n",
    "    \"\"\"select part of data in given longitude/latitude range\"\"\"\n",
    "\n",
    "    ## helper function to check if 'x' is in 'x_range'\n",
    "    isin_range = lambda x, x_range: (x_range[0] <= x) & (x <= x_range[1])\n",
    "\n",
    "    ## get mask for data in given lon/lat range\n",
    "    in_lon_range = isin_range(data[\"lon\"], lon_range)\n",
    "    in_lat_range = isin_range(data[\"lat\"], lat_range)\n",
    "    in_lonlat_range = in_lon_range & in_lat_range\n",
    "\n",
    "    ## load to memory\n",
    "    in_lonlat_range.load()\n",
    "\n",
    "    ## Retain all points with at least one valid grid cell\n",
    "    x_idx = in_lonlat_range.any(\"nlat\")\n",
    "    y_idx = in_lonlat_range.any(\"nlon\")\n",
    "\n",
    "    ## select given points\n",
    "    return data.isel({\"nlon\" : x_idx, \"nlat\" : y_idx})\n",
    "\n",
    "def plot_setup(fig, projection, lon_range, lat_range, xticks=None, yticks=None):\n",
    "    \"\"\"Add a subplot to the figure with the given map projection\n",
    "    and lon/lat range. Returns an Axes object.\"\"\"\n",
    "\n",
    "    ## increase resolution for projection\n",
    "    ## (otherwise lines plotted on surface won't follow curved trajectories)\n",
    "    projection.threshold /= 1000\n",
    "\n",
    "    ## Create subplot with given projection\n",
    "    ax = fig.add_subplot(projection=projection)\n",
    "\n",
    "    ## Subset to given region\n",
    "    extent = [*lon_range, *lat_range]\n",
    "    ax.set_extent(extent, crs=ccrs.PlateCarree())\n",
    "\n",
    "    ## draw coastlines\n",
    "    ax.coastlines(linewidths=0.5)\n",
    "\n",
    "    ## add tick labels\n",
    "    if xticks is not None:\n",
    "\n",
    "        ## add lon/lat labels\n",
    "        gl = ax.gridlines(\n",
    "            draw_labels=True,\n",
    "            linestyle=\"-\",\n",
    "            alpha=0.1,\n",
    "            linewidth=0.5,\n",
    "            color=\"k\",\n",
    "            zorder=1.05,\n",
    "        )\n",
    "\n",
    "        ## specify which axes to label\n",
    "        gl.top_labels = False\n",
    "        gl.right_labels = False\n",
    "\n",
    "        ## specify ticks\n",
    "        gl.ylocator = mticker.FixedLocator(yticks)\n",
    "        gl.xlocator = mticker.FixedLocator(xticks)\n",
    "\n",
    "    return ax\n",
    "\n",
    "\n",
    "def plot_box_outline(ax, lon_range, lat_range, c=\"k\"):\n",
    "    \"\"\"\n",
    "    Plot box outlining the specifed lon/lat range on given\n",
    "    ax object.\n",
    "    \"\"\"\n",
    "\n",
    "    ## get width and height\n",
    "    height = lat_range[1] - lat_range[0]\n",
    "    width = lon_range[1] - lon_range[0]\n",
    "\n",
    "    ## add rectangle to plot\n",
    "    ax.add_patch(\n",
    "        mpatches.Rectangle(\n",
    "            xy=[lon_range[0], lat_range[0]],\n",
    "            height=height,\n",
    "            width=width,\n",
    "            transform=ccrs.PlateCarree(),\n",
    "            facecolor=\"none\",\n",
    "            edgecolor=c,\n",
    "            linewidth=1,\n",
    "        )\n",
    "    )\n",
    "\n",
    "    return ax\n",
    "\n",
    "\n",
    "def plot_setup_woodshole(fig):\n",
    "    \"\"\"Plot zoomed-in view of Woods Hole\"\"\"\n",
    "\n",
    "    ## adjust figure size\n",
    "    fig.set_size_inches(5, 3)\n",
    "\n",
    "    ## set map projection to orthographic\n",
    "    proj = ccrs.Orthographic(central_longitude=-67.5, central_latitude=40)\n",
    "\n",
    "    ## Get ax object based on generic plotting function\n",
    "    ax = plot_setup(\n",
    "        fig,\n",
    "        proj,\n",
    "        lon_range=[-80, -60],\n",
    "        lat_range=[35, 45],\n",
    "        xticks=[-80, -70, -60],\n",
    "        yticks=[35, 40, 45],\n",
    "    )\n",
    "\n",
    "    return fig, ax"
   ]
  },
  {
   "cell_type": "markdown",
   "id": "b167e770-b9e3-418f-b43b-b76b05932ffa",
   "metadata": {},
   "source": [
    "## Data loading"
   ]
  },
  {
   "cell_type": "markdown",
   "id": "930a90ae-3f1c-4e73-b08c-14ec524f308d",
   "metadata": {},
   "source": [
    "### Filepaths"
   ]
  },
  {
   "cell_type": "markdown",
   "id": "cc119b56-f975-4ff7-b6d4-8142fe10f28f",
   "metadata": {},
   "source": [
    "````{admonition} To-do\n",
    "Update the ```SERVER_FP``` and ```SAVE_FP``` in the code cell below (intermediate results will be saved to ```SAVE_FP```).\n",
    "````"
   ]
  },
  {
   "cell_type": "code",
   "execution_count": null,
   "id": "074b60a3-4e70-474e-b38d-7919e8cb6d0c",
   "metadata": {},
   "outputs": [],
   "source": [
    "## Path to file server\n",
    "SERVER_FP = pathlib.Path(\"/Volumes\")\n",
    "SAVE_FP = pathlib.Path(\"./data\")\n",
    "\n",
    "## list of (model center, model) tuples\n",
    "model_names = [\n",
    "    (\"NCAR\", \"CESM2\"),\n",
    "    (\"CSIRO\", \"ACCESS-ESM1-5\"),\n",
    "    (\"MIROC\", \"MIROC6\"),\n",
    "    (\"MPI-M\", \"MPI-ESM1-2-LR\"),\n",
    "    (\"IPSL\", \"IPSL-CM6A-LR\"),\n",
    "    (\"NASA-GISS\", \"GISS-E2-2-G\")\n",
    "]\n",
    "\n",
    "## specify load kwargs\n",
    "time_decoder = xr.coding.times.CFDatetimeCoder(use_cftime=True)\n",
    "load_kwargs = dict(\n",
    "    decode_times=time_decoder, \n",
    "    mask_and_scale=True,\n",
    "    chunks=dict(time=3000),\n",
    "    coords=\"minimal\",\n",
    "    data_vars=\"minimal\",\n",
    "    concat_dim=\"time\",\n",
    "    combine=\"nested\",\n",
    "    compat=\"override\",\n",
    ")"
   ]
  },
  {
   "cell_type": "markdown",
   "id": "e83f7654-833a-4523-8252-7857143ac4b2",
   "metadata": {},
   "source": [
    "#### Get path to data for each model"
   ]
  },
  {
   "cell_type": "code",
   "execution_count": null,
   "id": "703d1f85-ddce-4288-977b-0cd84772bb5e",
   "metadata": {},
   "outputs": [],
   "source": [
    "def get_filepath(model_center, model):\n",
    "    \"\"\"get filepath to given model output\"\"\"\n",
    "\n",
    "    ## Path to cmip6 server\n",
    "    cmip_fp = SERVER_FP / pathlib.Path(\"cmip6/data/cmip6/CMIP\")\n",
    "\n",
    "    ## suffix (shared by all models)\n",
    "    suffix = pathlib.Path(\"1pctCO2/r1i1p1f1/Omon/tos/gn/1\")\n",
    "    \n",
    "    return pathlib.Path(cmip_fp, model_center, model, suffix)\n",
    "\n",
    "def get_grid_mask(data, x_coord=\"lon\", y_coord=\"lat\"):\n",
    "    \"\"\"get mask for NaN values (useful for xesmf regridder)\"\"\"\n",
    "\n",
    "    ## drop time as a coordinate\n",
    "    if \"time\" in data.dims:\n",
    "        data0 = data.isel(time=0).drop_vars(\"time\")\n",
    "    else:\n",
    "        data0 = data\n",
    "\n",
    "    return xr.where(~np.isnan(data0[\"tos\"]), 1, 0).compute()\n",
    "    \n",
    "\n",
    "def get_grid(lon_range=[280, 300], lat_range=[35, 45], **load_kwargs):\n",
    "    \"\"\"Get grid based on lon/lat grid for given CESM2\"\"\"\n",
    "\n",
    "    ## get filepath\n",
    "    fp = get_filepath(model_center=\"NCAR\", model=\"CESM2\")\n",
    "\n",
    "    ## load first timestep for cesm2 (ignore serialization warning)\n",
    "    with warnings.catch_warnings():\n",
    "        warnings.simplefilter(\"ignore\", category=xr.SerializationWarning)\n",
    "        data = xr.open_mfdataset(fp.glob(\"*nc\"), **load_kwargs).isel(time=0)\n",
    "\n",
    "    ## drop time as a coord\n",
    "    data = data.drop_vars(\"time\")\n",
    "\n",
    "    ## trim in lon/lat space\n",
    "    data = trim(data, lon_range, lat_range)\n",
    "\n",
    "    ## get grid\n",
    "    grid = data[[\"lon\",\"lat\"]]\n",
    "\n",
    "    ## mask NaN values\n",
    "    grid[\"mask\"] = get_grid_mask(data)\n",
    "\n",
    "    return grid.compute()\n",
    "\n",
    "def load_model_fromfile(grid, model_center, model):\n",
    "    \"\"\"Load data for given model\"\"\"\n",
    "\n",
    "    ## get filepath\n",
    "    fp = get_filepath(model_center=model_center, model=model)\n",
    "\n",
    "    ## load data (ignore serialization warning)\n",
    "    with warnings.catch_warnings():\n",
    "        warnings.simplefilter(\"ignore\", category=xr.SerializationWarning)\n",
    "        data = xr.open_mfdataset(fp.glob(\"*nc\"), **load_kwargs).compute()\n",
    "\n",
    "    ## get mask of NaN values\n",
    "    data[\"mask\"] = get_grid_mask(data)\n",
    "\n",
    "    ## regrid\n",
    "    regridder = xe.Regridder(data, grid, \"bilinear\")\n",
    "    data = regridder(data)\n",
    "    \n",
    "    return data[\"tos\"].rename(f\"{model_center}_{model}\")\n",
    "\n",
    "def load_model(grid, model_center, model):\n",
    "    \"\"\"load data for given model, re-gridded to specified grid\"\"\"\n",
    "\n",
    "    ## get save filepath\n",
    "    fp = pathlib.Path(SAVE_FP, f\"{model_center}_{model}.nc\")\n",
    "\n",
    "    if fp.is_file():\n",
    "        data = xr.open_dataarray(fp)\n",
    "\n",
    "    else:\n",
    "\n",
    "        ## load data from file\n",
    "        data = load_model_fromfile(grid, model_center, model)\n",
    "\n",
    "        ## save to file\n",
    "        data.to_netcdf(fp)\n",
    "\n",
    "    return data"
   ]
  },
  {
   "cell_type": "code",
   "execution_count": null,
   "id": "2884004b-6780-4831-a736-d6b66f6daa9f",
   "metadata": {},
   "outputs": [],
   "source": [
    "## get target grid\n",
    "grid = get_grid()\n",
    "\n",
    "## empty list to hold models\n",
    "data = []\n",
    "\n",
    "## loop thru models\n",
    "for model_name in tqdm.tqdm(model_names):\n",
    "    data.append(load_model(grid, *model_name))"
   ]
  },
  {
   "cell_type": "markdown",
   "id": "3b9245b7-ab18-43f4-8953-35e466cc3917",
   "metadata": {},
   "source": [
    "### Function to compute climate index"
   ]
  },
  {
   "cell_type": "markdown",
   "id": "60000472-e478-41bf-8b6c-347e4d604f24",
   "metadata": {},
   "source": [
    "````{admonition} To-do\n",
    "If you'd like to look at a different index, modify the function below.\n",
    "````"
   ]
  },
  {
   "cell_type": "code",
   "execution_count": null,
   "id": "ea95a1f0-c052-4c41-8fdb-fe27b7cc6fa7",
   "metadata": {},
   "outputs": [],
   "source": [
    "def compute_T_wh(x):\n",
    "    \"\"\"Compute Woods Hole temperature index\"\"\"\n",
    "\n",
    "    ## compute spatial average\n",
    "    return trim_and_avg(x, lon_range=[287.5, 293.5], lat_range=[39, 44])"
   ]
  },
  {
   "cell_type": "markdown",
   "id": "4054b0d1-57c3-402c-95e2-71caa863980b",
   "metadata": {},
   "source": [
    "### Loop through models"
   ]
  },
  {
   "cell_type": "code",
   "execution_count": null,
   "id": "c81b297a-fc67-421a-a0b5-425a916334a7",
   "metadata": {},
   "outputs": [],
   "source": [
    "## empty list to hold result\n",
    "T2m_idx = []\n",
    "\n",
    "## loop through each (model, filepath) pair\n",
    "for model, fp in tqdm.tqdm(fp_dict.items()):\n",
    "\n",
    "    ## get file pattern\n",
    "    file_pattern = os.path.join(fp, \"*.nc\")\n",
    "\n",
    "    ## open dataset and append to list\n",
    "    T2m_idx.append(\n",
    "        xr.open_mfdataset(\n",
    "            os.path.join(fp, \"*.nc\"),\n",
    "            decode_times=False,\n",
    "            mask_and_scale=False,\n",
    "            preprocess=compute_T_wh,\n",
    "            chunks=dict(time=1800),\n",
    "            coords=\"minimal\",\n",
    "            data_vars=\"minimal\",\n",
    "            concat_dim=\"time\",\n",
    "        )[\"tas\"]\n",
    "    )"
   ]
  },
  {
   "cell_type": "code",
   "execution_count": null,
   "id": "3adc6bf1-7a0a-4311-938a-3d828f8cc084",
   "metadata": {},
   "outputs": [],
   "source": [
    "T2m_idx_ = xr.concat(T2m_idx, dim=pd.Index(models, name=\"model\"), coords=\"minimal\")"
   ]
  },
  {
   "cell_type": "code",
   "execution_count": null,
   "id": "a1bee0fd-7793-46ea-bf24-9d714b61443b",
   "metadata": {},
   "outputs": [],
   "source": [
    "help(xr.open_mfdataset)"
   ]
  },
  {
   "cell_type": "code",
   "execution_count": null,
   "id": "8f103176-5c94-44c0-9425-6053d394c740",
   "metadata": {},
   "outputs": [],
   "source": [
    "T2m_idx[4]"
   ]
  },
  {
   "cell_type": "code",
   "execution_count": null,
   "id": "e1165063-5182-40bc-a418-f1de34572f57",
   "metadata": {},
   "outputs": [],
   "source": [
    "T2m_idx_"
   ]
  },
  {
   "cell_type": "markdown",
   "id": "e6d041f1-ed43-46e1-8dc0-fac522a842ec",
   "metadata": {},
   "source": [
    "### Combine in single data array"
   ]
  },
  {
   "cell_type": "code",
   "execution_count": null,
   "id": "e163b382-816e-41d4-b675-3fa78ca9f689",
   "metadata": {},
   "outputs": [],
   "source": [
    "def reset_year(T2m):\n",
    "    \"\"\"Function to reset year to start at 1850\"\"\"\n",
    "\n",
    "    ## get new time index\n",
    "    updated_year = np.arange(1850, 1850 + len(T2m.year))\n",
    "\n",
    "    ## add to array\n",
    "    T2m[\"year\"] = updated_year\n",
    "\n",
    "    return T2m\n",
    "\n",
    "\n",
    "## concatenate in dataset\n",
    "T2m_idx = [reset_year(x) for x in T2m_idx]\n",
    "T2m_idx = xr.concat(T2m_idx, dim=pd.Index(models, name=\"model\"), coords=\"minimal\")\n",
    "\n",
    "## Drop unnecessary coordinates\n",
    "T2m_idx = T2m_idx.drop_vars([\"height\", \"lon\", \"lat\"])\n",
    "\n",
    "## Load into memory\n",
    "start = time.time()\n",
    "T2m_idx.load()\n",
    "end = time.time()\n",
    "print(end - start)"
   ]
  },
  {
   "cell_type": "markdown",
   "id": "86c17ef9-a86c-47f6-8479-48440a767092",
   "metadata": {},
   "source": [
    "### Normalized version of data"
   ]
  },
  {
   "cell_type": "code",
   "execution_count": null,
   "id": "ce45abf9-9700-43fd-8d2c-3ef7aeda5fbf",
   "metadata": {},
   "outputs": [],
   "source": [
    "## normalize by removing mean of first 30 years\n",
    "T2m_idx_baseline = T2m_idx.isel(year=slice(None, 30)).mean(\"year\")\n",
    "T2m_idx_norm = T2m_idx - T2m_idx_baseline"
   ]
  },
  {
   "cell_type": "markdown",
   "id": "64a5bf46-a662-477c-8118-865bc012e247",
   "metadata": {},
   "source": [
    "## Plot results"
   ]
  },
  {
   "cell_type": "code",
   "execution_count": null,
   "id": "5d82e6c9-a14d-4aac-9828-65b6d39aa138",
   "metadata": {},
   "outputs": [],
   "source": [
    "fig, axs = plt.subplots(1, 2, figsize=(8, 3))\n",
    "\n",
    "## first, plot the raw data; then, plot the normalized data\n",
    "for i, data in enumerate([T2m_idx, T2m_idx_norm]):\n",
    "\n",
    "    ## loop through each model\n",
    "    for model in data.model:\n",
    "\n",
    "        axs[i].plot(data.year, data.sel(model=model), label=model.item(), lw=1)\n",
    "\n",
    "## plot ensemble mean\n",
    "axs[1].plot(data.year, data.mean(\"model\"), label=\"mean\", lw=2, c=\"k\")\n",
    "axs[1].set_xlim([None, 1999])\n",
    "\n",
    "## add legend\n",
    "axs[1].legend(prop={\"size\": 8})\n",
    "\n",
    "plt.show()"
   ]
  }
 ],
 "metadata": {
  "kernelspec": {
   "display_name": "Python 3 (ipykernel)",
   "language": "python",
   "name": "python3"
  },
  "language_info": {
   "codemirror_mode": {
    "name": "ipython",
    "version": 3
   },
   "file_extension": ".py",
   "mimetype": "text/x-python",
   "name": "python",
   "nbconvert_exporter": "python",
   "pygments_lexer": "ipython3",
   "version": "3.11.12"
  }
 },
 "nbformat": 4,
 "nbformat_minor": 5
}
