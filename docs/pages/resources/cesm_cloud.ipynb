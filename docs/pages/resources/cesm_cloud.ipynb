{
 "cells": [
  {
   "cell_type": "markdown",
   "id": "d06ede56-9c5f-4097-a760-b1fffa2350e8",
   "metadata": {
    "editable": true,
    "slideshow": {
     "slide_type": ""
    },
    "tags": []
   },
   "source": [
    "# Accessing CESM2-LENS on the cloud"
   ]
  },
  {
   "cell_type": "markdown",
   "id": "6a56b14a-e5da-48b8-9d45-b6873188a4b2",
   "metadata": {
    "editable": true,
    "slideshow": {
     "slide_type": ""
    },
    "tags": []
   },
   "source": [
    "Notebook adapted from CESM2-LE on AWS tutorial, located here:  \n",
    "```https://ncar.github.io/cesm2-le-aws/kay_et_al_lens2.html```"
   ]
  },
  {
   "cell_type": "markdown",
   "id": "ae7291fa-4a43-4ffc-b682-3ed8af56c775",
   "metadata": {
    "editable": true,
    "slideshow": {
     "slide_type": ""
    },
    "tags": []
   },
   "source": [
    "````{admonition} To-do\n",
    "**Option 1 (recommended, much faster)**: open notebook with Google Colab (https://colab.research.google.com/)  \n",
    "\n",
    "**Option 2**: Run locally (requires installing the following packages):\n",
    "```bash\n",
    "> conda install -c conda-forge intake intake-esm s3fs\n",
    "```"
   ]
  },
  {
   "cell_type": "markdown",
   "id": "02b9dd85-ddff-4db8-831c-b6485458d5e0",
   "metadata": {},
   "source": [
    "## check if we're on Google colab"
   ]
  },
  {
   "cell_type": "code",
   "execution_count": null,
   "id": "8ac6592e-5a75-42e2-a70f-46486d38ad72",
   "metadata": {},
   "outputs": [],
   "source": [
    "## are we using colab (true/false)\n",
    "USING_COLAB = \"google.colab\" in str(get_ipython())"
   ]
  },
  {
   "cell_type": "markdown",
   "id": "4570dec1-6027-4729-9481-d5109a24521a",
   "metadata": {
    "editable": true,
    "slideshow": {
     "slide_type": ""
    },
    "tags": []
   },
   "source": [
    "## Imports"
   ]
  },
  {
   "cell_type": "code",
   "execution_count": null,
   "id": "722a039b-a6e6-4b64-8a1e-cae20897bb3c",
   "metadata": {
    "editable": true,
    "slideshow": {
     "slide_type": ""
    },
    "tags": []
   },
   "outputs": [],
   "source": [
    "## install packages in google colab\n",
    "if USING_COLAB:\n",
    "    !pip install zarr cftime intake intake-esm numcodecs==0.15.1 s3fs\n",
    "\n",
    "## packages\n",
    "import intake\n",
    "import time\n",
    "import xarray as xr"
   ]
  },
  {
   "cell_type": "markdown",
   "id": "a5ac17dd-06ff-4c54-8983-c2a84bb3c4aa",
   "metadata": {},
   "source": [
    "## CESM2-LE surface temperature data\n",
    "(actually, we'll look at $T_{2m}$, temperature at 2m above the surface)"
   ]
  },
  {
   "cell_type": "markdown",
   "id": "23da13da-087a-4f8b-95fb-650ff605233c",
   "metadata": {
    "editable": true,
    "slideshow": {
     "slide_type": ""
    },
    "tags": []
   },
   "source": [
    "### Open (but don't load) the data"
   ]
  },
  {
   "cell_type": "code",
   "execution_count": null,
   "id": "36912732-e9ef-46ba-8de4-9e9b67596f3d",
   "metadata": {
    "editable": true,
    "slideshow": {
     "slide_type": ""
    },
    "tags": []
   },
   "outputs": [],
   "source": [
    "## get catalog of available data\n",
    "catalog = intake.open_esm_datastore(\n",
    "    \"https://raw.githubusercontent.com/NCAR/cesm2-le-aws/main/intake-catalogs/aws-cesm2-le.json\"\n",
    ")\n",
    "\n",
    "## subset for temperature data\n",
    "catalog_subset = catalog.search(\n",
    "    variable=\"TREFHT\", frequency=\"monthly\", experiment=\"historical\"\n",
    ")\n",
    "\n",
    "## open_dataset kwargs\n",
    "xr_kwargs = dict(\n",
    "    engine=\"zarr\",\n",
    "    decode_timedelta=True,\n",
    "    chunks=dict(member=1, time=1980, nlat=None, nlon=None),\n",
    ")\n",
    "\n",
    "## kwargs for opening data\n",
    "kwargs = dict(\n",
    "    aggregate=True,\n",
    "    xarray_open_kwargs=xr_kwargs,\n",
    "    zarr_kwargs={\"consolidated\": True},\n",
    "    storage_options={\"anon\": True},\n",
    ")\n",
    "\n",
    "## load data\n",
    "dsets = catalog_subset.to_dataset_dict(**kwargs)\n",
    "data = dsets[\"atm.historical.monthly.cmip6\"]"
   ]
  },
  {
   "cell_type": "markdown",
   "id": "54755263-7d61-4a48-9bb5-608f767b5f7d",
   "metadata": {
    "editable": true,
    "slideshow": {
     "slide_type": ""
    },
    "tags": []
   },
   "source": [
    "### Load the data into memory (uncomment cell below)"
   ]
  },
  {
   "cell_type": "code",
   "execution_count": null,
   "id": "388bd409-f886-4627-aa0b-daecf7f99176",
   "metadata": {
    "editable": true,
    "slideshow": {
     "slide_type": ""
    },
    "tags": []
   },
   "outputs": [],
   "source": [
    "## only load multiple members if running on colab (slow otherwise)\n",
    "if USING_COLAB:\n",
    "    member_idx = dict(member_id=slice(None, 10))\n",
    "else:\n",
    "    member_idx = dict(member_id=0)\n",
    "\n",
    "## specify lat/lon range\n",
    "lonlat_vals = dict(lon=slice(285, 295), lat=slice(35, 45))\n",
    "\n",
    "## load data into memory\n",
    "t0 = time.time()\n",
    "data_loaded = data[\"TREFHT\"].isel(member_idx).sel(lonlat_vals).compute()\n",
    "t1 = time.time()\n",
    "print(f\"Elapsed time: {t1-t0:.2f} seconds.\")"
   ]
  },
  {
   "cell_type": "markdown",
   "id": "ab3aaccb-9d1b-471e-a6b4-188d4d81072d",
   "metadata": {},
   "source": [
    "## (optional, much slower) SST data"
   ]
  },
  {
   "cell_type": "code",
   "execution_count": null,
   "id": "a0536610-cd75-4638-bd84-ba360d6358d8",
   "metadata": {},
   "outputs": [],
   "source": [
    "## get catalog of available data\n",
    "catalog = intake.open_esm_datastore(\n",
    "    \"https://raw.githubusercontent.com/NCAR/cesm2-le-aws/main/intake-catalogs/aws-cesm2-le.json\"\n",
    ")\n",
    "\n",
    "## subset for temperature data and grid data\n",
    "catalog_subset = catalog.search(\n",
    "    variable=\"TEMP\", frequency=\"monthly\", experiment=\"historical\"\n",
    ")\n",
    "grid_subset = catalog.search(\n",
    "    component=\"ocn\",\n",
    "    frequency=\"static\",\n",
    "    experiment=\"historical\",\n",
    "    forcing_variant=\"cmip6\",\n",
    ")\n",
    "\n",
    "## load SST data\n",
    "dsets = catalog_subset.to_dataset_dict(**kwargs)\n",
    "data = dsets[\"ocn.historical.monthly.cmip6\"].isel(z_t=0)\n",
    "\n",
    "## load grid and subset for top level\n",
    "_, grid = grid_subset.to_dataset_dict(**kwargs).popitem()\n",
    "grid = grid.isel(z_t=0)\n",
    "\n",
    "## merge grid information with SST data\n",
    "sst = xr.merge([data.rename({\"TEMP\": \"sst\"}), grid[[\"TAREA\", \"TLONG\", \"TLAT\"]]])"
   ]
  }
 ],
 "metadata": {
  "kernelspec": {
   "display_name": "Python 3 (ipykernel)",
   "language": "python",
   "name": "python3"
  },
  "language_info": {
   "codemirror_mode": {
    "name": "ipython",
    "version": 3
   },
   "file_extension": ".py",
   "mimetype": "text/x-python",
   "name": "python",
   "nbconvert_exporter": "python",
   "pygments_lexer": "ipython3",
   "version": "3.11.12"
  }
 },
 "nbformat": 4,
 "nbformat_minor": 5
}
