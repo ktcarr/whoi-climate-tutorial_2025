{
 "cells": [
  {
   "cell_type": "markdown",
   "id": "1274f579-9a52-4351-9b80-660dd9008d2d",
   "metadata": {},
   "source": [
    "# Test the setup worked!"
   ]
  },
  {
   "cell_type": "markdown",
   "id": "ae7291fa-4a43-4ffc-b682-3ed8af56c775",
   "metadata": {},
   "source": [
    "````{admonition} To-do\n",
    "**Activate your virtual environment and start a jupyterlab session**. For example, if your mamba/conda environment is called ```12860_env```, enter the following lines in a command window (the first line activates the virtual environment and the second line starts the jupyter session):\n",
    "```bash\n",
    "> conda activate 12860_env\n",
    "> jupyter lab\n",
    "```\n",
    "**Then, execute the cells in the rest of this notebook** (you can either copy/paste code to a blank notebook, or download this notebook directly).\n",
    "````"
   ]
  },
  {
   "cell_type": "markdown",
   "id": "4570dec1-6027-4729-9481-d5109a24521a",
   "metadata": {},
   "source": [
    "## Packages"
   ]
  },
  {
   "cell_type": "code",
   "execution_count": null,
   "id": "722a039b-a6e6-4b64-8a1e-cae20897bb3c",
   "metadata": {},
   "outputs": [],
   "source": [
    "import pathlib\n",
    "import numpy as np\n",
    "import xarray as xr\n",
    "import cartopy.crs as ccrs\n",
    "import matplotlib.pyplot as plt\n",
    "import matplotlib.dates as mdates\n",
    "import datetime\n",
    "import seaborn as sns\n",
    "\n",
    "## (optional) remove gridlines from plots\n",
    "sns.set(rc={\"axes.facecolor\": \"white\", \"axes.grid\": False})"
   ]
  },
  {
   "cell_type": "markdown",
   "id": "57029336-f92e-4ab0-a1a3-34c439325899",
   "metadata": {},
   "source": [
    "## Open the data"
   ]
  },
  {
   "cell_type": "markdown",
   "id": "67e2ee80-e6ac-46bd-8b84-a79449421369",
   "metadata": {},
   "source": [
    "```{admonition} To-do\n",
    "Specify the path to the file server in the following code cell.\n",
    "```"
   ]
  },
  {
   "cell_type": "code",
   "execution_count": null,
   "id": "69b652d9-83bf-4066-ad4a-da54a08127ba",
   "metadata": {},
   "outputs": [],
   "source": [
    "## To-do: update path to WHOI file server on your machine\n",
    "## On Mac, the default location is \"/Volumes\"\n",
    "server_path = pathlib.Path(\"/Volumes\")"
   ]
  },
  {
   "cell_type": "markdown",
   "id": "71cc9f45-0f8d-4f1b-acc8-c42043756eac",
   "metadata": {},
   "source": [
    "### Get list of files to open"
   ]
  },
  {
   "cell_type": "code",
   "execution_count": null,
   "id": "31c37e96-c842-472d-a153-d33ce66ac64f",
   "metadata": {},
   "outputs": [],
   "source": [
    "## path to the data (from the root of the server)\n",
    "t2m_path_on_server = pathlib.Path(\n",
    "    \"cmip6/data/era5/reanalysis/single-levels/monthly-means/2m_temperature\"\n",
    ")\n",
    "\n",
    "## combine these into single path\n",
    "t2m_path = pathlib.Path(server_path, t2m_path_on_server)\n",
    "\n",
    "## Get list of files and print out the first 5\n",
    "t2m_files = list(t2m_path.glob(\"*.nc\"))\n",
    "for f in t2m_files[:5]:\n",
    "    print(f)"
   ]
  },
  {
   "cell_type": "markdown",
   "id": "cb3a31b4-3cf5-4a93-b174-487ada20d0b3",
   "metadata": {},
   "source": [
    "### Open the data using ```xarray```"
   ]
  },
  {
   "cell_type": "code",
   "execution_count": null,
   "id": "8d68824e-1c10-4c5f-8f94-4b60a31aeb08",
   "metadata": {},
   "outputs": [],
   "source": [
    "t2m = xr.open_mfdataset(t2m_files)[\"t2m\"]"
   ]
  },
  {
   "cell_type": "markdown",
   "id": "fd26d37d-c3bd-4e2e-805a-d8fa10a1eb95",
   "metadata": {},
   "source": [
    "```{note}\n",
    "If you get a ```NetCDF: HDF``` error, see the [FAQ page](../resources/FAQ.md).\n",
    "```"
   ]
  },
  {
   "cell_type": "markdown",
   "id": "8d422a78-997d-4fba-a192-f16e7dd8070e",
   "metadata": {},
   "source": [
    "## Plot a sample"
   ]
  },
  {
   "cell_type": "markdown",
   "id": "17c3a713-0cd2-49e8-983a-43552e5340e9",
   "metadata": {},
   "source": [
    "### Define functions for plotting"
   ]
  },
  {
   "cell_type": "code",
   "execution_count": null,
   "id": "a1789460-c7a2-4c37-a48a-7b7f1dbc3a34",
   "metadata": {},
   "outputs": [],
   "source": [
    "def plot_setup(fig, projection, lon_range, lat_range):\n",
    "    \"\"\"Add a subplot to the figure with the given map projection\n",
    "    and lon/lat range. Returns an Axes object.\"\"\"\n",
    "\n",
    "    ## Create subplot with given projection\n",
    "    ax = fig.add_subplot(projection=projection)\n",
    "\n",
    "    ## Subset to given region\n",
    "    extent = [*lon_range, *lat_range]\n",
    "    ax.set_extent(extent, crs=ccrs.PlateCarree())\n",
    "\n",
    "    ## draw coastlines\n",
    "    ax.coastlines()\n",
    "\n",
    "    return ax\n",
    "\n",
    "\n",
    "def plot_setup_pacific(fig):\n",
    "    \"\"\"Plot Pacific region\"\"\"\n",
    "\n",
    "    ## set map projection to orthographic\n",
    "    proj = ccrs.Orthographic(central_longitude=180, central_latitude=50)\n",
    "\n",
    "    return plot_setup(fig, proj, lon_range=[120, 240], lat_range=[30, 70])\n",
    "\n",
    "\n",
    "def plot_setup_atlantic(fig):\n",
    "    \"\"\"Plot Pacific region\"\"\"\n",
    "\n",
    "    ## set map projection to orthographic\n",
    "    proj = ccrs.Orthographic(central_longitude=-50, central_latitude=40)\n",
    "\n",
    "    return plot_setup(fig, proj, lon_range=[-100, 0], lat_range=[10, 70])"
   ]
  },
  {
   "cell_type": "markdown",
   "id": "a89ec9e7-f469-498a-a0da-7c17f61e5c83",
   "metadata": {},
   "source": [
    "### Make the plot"
   ]
  },
  {
   "cell_type": "code",
   "execution_count": null,
   "id": "1c4bb104-c51b-468d-8e71-2f01b6299bdb",
   "metadata": {},
   "outputs": [],
   "source": [
    "## blank canvas to plot on\n",
    "fig = plt.figure(figsize=(8, 3))\n",
    "\n",
    "## draw background map of Pacific\n",
    "# ax = plot_setup_pacific(fig)\n",
    "ax = plot_setup_atlantic(fig)\n",
    "\n",
    "## plot the first timestep of 2m-temperature\n",
    "plot_data = ax.contourf(\n",
    "    t2m.longitude,\n",
    "    t2m.latitude,\n",
    "    t2m.isel(time=0),\n",
    "    transform=ccrs.PlateCarree(),\n",
    "    levels=np.arange(240, 310, 10),\n",
    "    extend=\"both\",\n",
    ")\n",
    "\n",
    "## create colorbath\n",
    "colorbar = fig.colorbar(plot_data, label=r\"$K$\")\n",
    "\n",
    "## Mark Woods Hole on map\n",
    "ax.scatter(\n",
    "    288.5, 41.5, transform=ccrs.PlateCarree(), marker=\"*\", c=\"w\", s=50, zorder=10\n",
    ")\n",
    "\n",
    "## label\n",
    "ax.set_title(r\"January 1979 $T_{2m}$\")\n",
    "\n",
    "plt.show()"
   ]
  },
  {
   "cell_type": "markdown",
   "id": "dc0e3506-3b9a-4569-9783-6bc9e517e1f4",
   "metadata": {},
   "source": [
    "## Compute Woods Hole \"climate index\""
   ]
  },
  {
   "cell_type": "markdown",
   "id": "b34220e4-2415-4a5a-bc68-8e987697b136",
   "metadata": {},
   "source": [
    "### Write function to compute the index from global data"
   ]
  },
  {
   "cell_type": "code",
   "execution_count": null,
   "id": "73fd76f2-90c8-48f4-8fe8-cb7d8bdd948f",
   "metadata": {},
   "outputs": [],
   "source": [
    "def get_WH_idx(global_t2m):\n",
    "    \"\"\"\n",
    "    Input: 'global_t2m' is a 3-D DataArray (lon,lat,time)\n",
    "\n",
    "    Output: 'climate_index' is a 1-D DataArray (time)\n",
    "    \"\"\"\n",
    "\n",
    "    ## Get temperature in grid cell near Woods Hole\n",
    "    t2m_WH = t2m.sel(latitude=41.5, longitude=288.5)\n",
    "\n",
    "    ## Remove monthly mean (climatology)\n",
    "    t2m_WH_clim = t2m_WH.groupby(\"time.month\").mean()\n",
    "    t2m_WH = t2m_WH.groupby(\"time.month\") - t2m_WH_clim\n",
    "\n",
    "    return t2m_WH"
   ]
  },
  {
   "cell_type": "markdown",
   "id": "9fb99480-5ed4-4afd-bf5f-4dce0aecadf6",
   "metadata": {},
   "source": [
    "### Compute the index"
   ]
  },
  {
   "cell_type": "code",
   "execution_count": null,
   "id": "5c5b4cb6-4f68-4c7b-bed1-2021ac19d01c",
   "metadata": {},
   "outputs": [],
   "source": [
    "t2m_WH = get_WH_idx(t2m).compute()"
   ]
  },
  {
   "cell_type": "markdown",
   "id": "b26efc34-a31d-459c-a9c0-119a08fe69ef",
   "metadata": {},
   "source": [
    "### Plot the result"
   ]
  },
  {
   "cell_type": "code",
   "execution_count": null,
   "id": "38b04d49-ffb8-4286-9e9d-5a1397ffcb6c",
   "metadata": {},
   "outputs": [],
   "source": [
    "fig, ax = plt.subplots(figsize=(4, 3))\n",
    "\n",
    "## Plot the data\n",
    "ax.plot(t2m_WH.time, t2m_WH)\n",
    "\n",
    "## label axes\n",
    "ax.set_title(r\"Woods Hole $T_{2m}$ anomaly\")\n",
    "ax.set_ylabel(r\"$K$\")\n",
    "\n",
    "## label x-axis\n",
    "ax.set_xticks(\n",
    "    [datetime.date(1979, 1, 1), datetime.date(2000, 6, 30), datetime.date(2021, 12, 31)]\n",
    ")\n",
    "ax.xaxis.set_major_formatter(mdates.DateFormatter(\"%Y\"))\n",
    "\n",
    "plt.show()"
   ]
  }
 ],
 "metadata": {
  "kernelspec": {
   "display_name": "Python 3 (ipykernel)",
   "language": "python",
   "name": "python3"
  },
  "language_info": {
   "codemirror_mode": {
    "name": "ipython",
    "version": 3
   },
   "file_extension": ".py",
   "mimetype": "text/x-python",
   "name": "python",
   "nbconvert_exporter": "python",
   "pygments_lexer": "ipython3",
   "version": "3.12.5"
  }
 },
 "nbformat": 4,
 "nbformat_minor": 5
}
