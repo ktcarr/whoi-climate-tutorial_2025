{
 "cells": [
  {
   "cell_type": "markdown",
   "id": "0294a2d1-ac11-44c6-8d4c-f09066b4ce27",
   "metadata": {},
   "source": [
    "# Example\n",
    "In this example, we'll use a single ensemble member from CESM1-LE to diagnose the forced response to external forcing near Woods Hole."
   ]
  },
  {
   "cell_type": "markdown",
   "id": "d3ea7642-50d7-4e56-b847-f9d0af63f9b5",
   "metadata": {},
   "source": [
    "## Imports"
   ]
  },
  {
   "cell_type": "code",
   "execution_count": null,
   "id": "1daaf53e-f603-40ac-b7a6-968a9eef13dc",
   "metadata": {
    "editable": true,
    "slideshow": {
     "slide_type": ""
    },
    "tags": []
   },
   "outputs": [],
   "source": [
    "import pathlib\n",
    "import numpy as np\n",
    "import xarray as xr\n",
    "import cartopy.crs as ccrs\n",
    "import matplotlib.pyplot as plt\n",
    "import matplotlib.dates as mdates\n",
    "import datetime\n",
    "import seaborn as sns\n",
    "import cmocean\n",
    "import matplotlib.patches as mpatches\n",
    "import matplotlib.ticker as mticker\n",
    "import copy\n",
    "import pandas as pd\n",
    "import tqdm\n",
    "import time\n",
    "\n",
    "## (optional) remove gridlines from plots\n",
    "sns.set(rc={\"axes.facecolor\": \"white\", \"axes.grid\": False})\n",
    "\n",
    "## should we save figs?\n",
    "SAVE_FIGS = False"
   ]
  },
  {
   "cell_type": "markdown",
   "id": "3de6686d-1f50-4cd2-99e3-ec18c930e6c0",
   "metadata": {},
   "source": [
    "## Functions"
   ]
  },
  {
   "cell_type": "code",
   "execution_count": null,
   "id": "b7ad8ace-6902-4bb7-8b3d-ea4c19d33506",
   "metadata": {
    "editable": true,
    "slideshow": {
     "slide_type": ""
    },
    "tags": [
     "hide-input"
    ]
   },
   "outputs": [],
   "source": [
    "def trim(data, lon_range, lat_range):\n",
    "    \"\"\"select part of data in given longitude/latitude range\"\"\"\n",
    "\n",
    "    ## helper function to check if 'x' is in 'x_range'\n",
    "    isin_range = lambda x, x_range: (x_range[0] <= x) & (x <= x_range[1])\n",
    "\n",
    "    ## get mask for data in given lon/lat range\n",
    "    in_lon_range = isin_range(data[\"TLONG\"], lon_range)\n",
    "    in_lat_range = isin_range(data[\"TLAT\"], lat_range)\n",
    "    in_lonlat_range = in_lon_range & in_lat_range\n",
    "\n",
    "    ## load to memory\n",
    "    in_lonlat_range.load()\n",
    "\n",
    "    ## Retain all points with at least one valid grid cell\n",
    "    x_idx = in_lonlat_range.any(\"nlat\")\n",
    "    y_idx = in_lonlat_range.any(\"nlon\")\n",
    "\n",
    "    ## select given points\n",
    "    return data.isel(nlon=x_idx, nlat=y_idx)\n",
    "\n",
    "\n",
    "def sort_longitude(data):\n",
    "    \"\"\"shuffles data so that longitude is monotonically increasing\"\"\"\n",
    "\n",
    "    ## Transpose data so that longitude is last dimension\n",
    "    ## (we'll do all the sorting along this dimension)\n",
    "    data = data.transpose(..., \"nlon\")\n",
    "\n",
    "    ## Get indices needed to sort longitude to be monotonic increasing\n",
    "    TLONG_sort_idx = np.argsort(data[\"TLONG\"].values, axis=-1)\n",
    "\n",
    "    ## sort the lon/lat coordindates\n",
    "    sort = lambda X, idx: np.take_along_axis(X.values, indices=idx, axis=-1)\n",
    "    data[\"TLONG\"].values = sort(data[\"TLONG\"], idx=TLONG_sort_idx)\n",
    "    data[\"TLAT\"].values = sort(data[\"TLAT\"], idx=TLONG_sort_idx)\n",
    "\n",
    "    #### sort the data\n",
    "\n",
    "    # first, check to see if data has more than two dimensions\n",
    "    if data.ndim > 2:\n",
    "        extra_dims = [i for i in range(data.ndim - 2)]\n",
    "        TLONG_sort_idx = np.expand_dims(TLONG_sort_idx, axis=extra_dims)\n",
    "\n",
    "    ## now, do the actual sorting\n",
    "    data.values = sort(data, idx=TLONG_sort_idx)\n",
    "\n",
    "    return data\n",
    "\n",
    "\n",
    "def swap_longitude_range(data):\n",
    "    \"\"\"swap longitude range of xr.DataArray from [0,360) to (-180, 180].\n",
    "    Handles case with 2-dimension longitude coordinates ('TLONG')\"\"\"\n",
    "\n",
    "    ## make copy of longitude coordinate to be modified\n",
    "    TLONG_new = copy.deepcopy(data.TLONG.values)\n",
    "\n",
    "    ## relabel values greater than 180\n",
    "    exceeds_180 = TLONG_new > 180\n",
    "    TLONG_new[exceeds_180] = -360 + TLONG_new[exceeds_180]\n",
    "\n",
    "    ## Update the coordinate on the xarray object\n",
    "    data[\"TLONG\"].values = TLONG_new\n",
    "\n",
    "    return data\n",
    "\n",
    "\n",
    "def plot_setup(fig, projection, lon_range, lat_range, xticks=None, yticks=None):\n",
    "    \"\"\"Add a subplot to the figure with the given map projection\n",
    "    and lon/lat range. Returns an Axes object.\"\"\"\n",
    "\n",
    "    ## increase resolution for projection\n",
    "    ## (otherwise lines plotted on surface won't follow curved trajectories)\n",
    "    projection.threshold /= 1000\n",
    "\n",
    "    ## Create subplot with given projection\n",
    "    ax = fig.add_subplot(projection=projection)\n",
    "\n",
    "    ## Subset to given region\n",
    "    extent = [*lon_range, *lat_range]\n",
    "    ax.set_extent(extent, crs=ccrs.PlateCarree())\n",
    "\n",
    "    ## draw coastlines\n",
    "    ax.coastlines(linewidths=0.5)\n",
    "\n",
    "    ## add tick labels\n",
    "    if xticks is not None:\n",
    "\n",
    "        ## add lon/lat labels\n",
    "        gl = ax.gridlines(\n",
    "            draw_labels=True,\n",
    "            linestyle=\"-\",\n",
    "            alpha=0.1,\n",
    "            linewidth=0.5,\n",
    "            color=\"k\",\n",
    "            zorder=1.05,\n",
    "        )\n",
    "\n",
    "        ## specify which axes to label\n",
    "        gl.top_labels = False\n",
    "        gl.right_labels = False\n",
    "\n",
    "        ## specify ticks\n",
    "        gl.ylocator = mticker.FixedLocator(yticks)\n",
    "        gl.xlocator = mticker.FixedLocator(xticks)\n",
    "\n",
    "    return ax\n",
    "\n",
    "\n",
    "def plot_box_outline(ax, lon_range, lat_range, c=\"k\"):\n",
    "    \"\"\"\n",
    "    Plot box outlining the specifed lon/lat range on given\n",
    "    ax object.\n",
    "    \"\"\"\n",
    "\n",
    "    ## get width and height\n",
    "    height = lat_range[1] - lat_range[0]\n",
    "    width = lon_range[1] - lon_range[0]\n",
    "\n",
    "    ## add rectangle to plot\n",
    "    ax.add_patch(\n",
    "        mpatches.Rectangle(\n",
    "            xy=[lon_range[0], lat_range[0]],\n",
    "            height=height,\n",
    "            width=width,\n",
    "            transform=ccrs.PlateCarree(),\n",
    "            facecolor=\"none\",\n",
    "            edgecolor=c,\n",
    "            linewidth=1,\n",
    "        )\n",
    "    )\n",
    "\n",
    "    return ax\n",
    "\n",
    "\n",
    "def plot_setup_woodshole(fig):\n",
    "    \"\"\"Plot zoomed-in view of Woods Hole\"\"\"\n",
    "\n",
    "    ## adjust figure size\n",
    "    fig.set_size_inches(5, 3)\n",
    "\n",
    "    ## set map projection to orthographic\n",
    "    proj = ccrs.Orthographic(central_longitude=-67.5, central_latitude=40)\n",
    "\n",
    "    ## Get ax object based on generic plotting function\n",
    "    ax = plot_setup(\n",
    "        fig,\n",
    "        proj,\n",
    "        lon_range=[-80, -60],\n",
    "        lat_range=[35, 45],\n",
    "        xticks=[-80, -70, -60],\n",
    "        yticks=[25, 40],\n",
    "    )\n",
    "\n",
    "    return fig, ax\n",
    "\n",
    "\n",
    "def plot_setup_atlantic(fig):\n",
    "    \"\"\"Plot Atlantic region\"\"\"\n",
    "\n",
    "    ## adjust figure size\n",
    "    fig.set_size_inches(7.5, 3.75)\n",
    "\n",
    "    ## specify map projection\n",
    "    proj = ccrs.Orthographic(central_longitude=-50, central_latitude=40)\n",
    "\n",
    "    ## get ax object\n",
    "    ax = plot_setup(\n",
    "        fig,\n",
    "        proj,\n",
    "        lon_range=[-90, -10],\n",
    "        lat_range=[20, 60],\n",
    "        xticks=[-80, -50, -20],\n",
    "        yticks=[25, 45],\n",
    "    )\n",
    "\n",
    "    return fig, ax\n",
    "\n",
    "\n",
    "def make_cb_range(amp, delta):\n",
    "    \"\"\"Make colorbar_range for cmo.balance\n",
    "    Args:\n",
    "        - 'amp': amplitude of maximum value for colorbar\n",
    "        - 'delta': increment for colorbar\n",
    "    \"\"\"\n",
    "    return np.concatenate(\n",
    "        [np.arange(-amp, 0, delta), np.arange(delta, amp + delta, delta)]\n",
    "    )\n",
    "\n",
    "\n",
    "def get_empirical_pdf(x, bin_edges=None):\n",
    "    \"\"\"\n",
    "    Estimate the \"empirical\" probability distribution function for the data x.\n",
    "    In this case the result is a normalized histogram,\n",
    "    Normalized means that integrating over the histogram yields 1.\n",
    "    Returns the PDF (normalized histogram) and edges of the histogram bins\n",
    "    \"\"\"\n",
    "\n",
    "    ## compute histogram\n",
    "    if bin_edges is None:\n",
    "        hist, bin_edges = np.histogram(x)\n",
    "\n",
    "    else:\n",
    "        hist, _ = np.histogram(x, bins=bin_edges)\n",
    "\n",
    "    ## normalize to a probability distribution (PDF)\n",
    "    bin_width = bin_edges[1:] - bin_edges[:-1]\n",
    "    pdf = hist / (hist * bin_width).sum()\n",
    "\n",
    "    return pdf, bin_edges\n",
    "\n",
    "\n",
    "def get_autocorr(x, lags, month=None):\n",
    "    \"\"\"Get autocorrelation for data for multiple lags\"\"\"\n",
    "\n",
    "    ## put autocorrelation for each lag in array\n",
    "    autocorr = [get_autocorr_helper(x, lag, month) for lag in lags]\n",
    "\n",
    "    ## convert to xr.DataArray\n",
    "    autocorr = xr.concat(autocorr, dim=pd.Index(lags, name=\"lag\"))\n",
    "    # return xr.DataArray(autocorr, coords={\"lag\": lags})\n",
    "    return autocorr\n",
    "\n",
    "\n",
    "def get_autocorr_helper(x, lag, month=None):\n",
    "    \"\"\"Get autocorrelation of data for single lag\"\"\"\n",
    "\n",
    "    ## return 1 for a lag of 0\n",
    "    if lag == 0:\n",
    "        return xr.ones_like(x.isel(time=0))\n",
    "\n",
    "    ## get lagged version of x\n",
    "    elif lag > 0:\n",
    "        x_lagged = x.isel(time=slice(lag, None))\n",
    "        x_ = x.isel(time=slice(None, -lag))\n",
    "\n",
    "    else:\n",
    "        x_lagged = x.isel(time=slice(None, lag))\n",
    "        x_ = x.isel(time=slice(-lag, None))\n",
    "\n",
    "    ## re-label time axis so arrays match\n",
    "    x_lagged[\"time\"] = x_.time\n",
    "\n",
    "    ## subset for data from given month\n",
    "    if month is not None:\n",
    "        is_month = x_.time.dt.month == month\n",
    "        x_ = x_.isel(time=is_month)\n",
    "        x_lagged = x_lagged.isel(time=is_month)\n",
    "\n",
    "    return xr.corr(x_, x_lagged, dim=\"time\")\n",
    "\n",
    "\n",
    "def load_simulation(varname, member_id, simulation_type, preprocess_func=None):\n",
    "    \"\"\"\n",
    "    Load dataset for single simulation, for single variable.\n",
    "    Arguments:\n",
    "        - varname: name of variable to load, one of {\"SST\",\"PSL\"}\n",
    "        - member_id: ID of ensemble member to load, an integer in the range [1,10]\n",
    "        - simulation_type: one of {\"hist\", \"rcp85\"}\n",
    "    Returns:\n",
    "        - xarray dataarray with given data\n",
    "    \"\"\"\n",
    "\n",
    "    ## Filepath to the CESM LENS dataset\n",
    "    lens_fp = pathlib.Path(\"cmip6/data/cmip6/CMIP/NCAR/LENS\")\n",
    "\n",
    "    #### 1. get filepath to data\n",
    "    data_fp = SERVER_FP / lens_fp / pathlib.Path(varname)\n",
    "\n",
    "    #### 2. get naming pattern for files to open\n",
    "    if simulation_type == \"hist\":\n",
    "        file_pattern = f\"*20TRC*.{member_id:03d}.*.nc\"\n",
    "\n",
    "    elif simulation_type == \"rcp85\":\n",
    "        file_pattern = f\"*RCP85*.{member_id:03d}.*.nc\"\n",
    "\n",
    "    else:\n",
    "        print(\"Not a valid simulation type\")\n",
    "\n",
    "    #### 3. open the relevant datasets, applying preprocessing function\n",
    "\n",
    "    ## filepath to data\n",
    "    fp = list(data_fp.glob(file_pattern))[0]\n",
    "\n",
    "    ## load data\n",
    "    data = xr.open_dataset(fp, chunks=None, decode_timedelta=True)\n",
    "\n",
    "    ## apply (optional) preprocessing\n",
    "    if preprocess_func is not None:\n",
    "        data = preprocess_func(data)\n",
    "\n",
    "    return data[varname].squeeze(drop=True)\n",
    "\n",
    "\n",
    "def get_trend(data, dim=\"time\", deg=1):\n",
    "    \"\"\"\n",
    "    Get trend for an xr.dataarray along specified dimension,\n",
    "    by fitting polynomial of degree 'deg'.\n",
    "    \"\"\"\n",
    "\n",
    "    ## Get coefficients for best fit\n",
    "    polyfit_coefs = data.polyfit(dim=dim, deg=deg)[\"polyfit_coefficients\"]\n",
    "\n",
    "    ## Get best fit line (linear trend in this case)\n",
    "    trend = xr.polyval(data[dim], polyfit_coefs)\n",
    "\n",
    "    return trend\n",
    "\n",
    "\n",
    "def detrend(data, dim=\"time\", deg=1):\n",
    "    \"\"\"\n",
    "    Remove trend of degree 'deg' from data, along dimension 'dim'.\n",
    "    \"\"\"\n",
    "\n",
    "    return data - get_trend(data, dim=dim, deg=deg)"
   ]
  },
  {
   "cell_type": "markdown",
   "id": "333948ce-71b3-45c2-a758-89326cac7d36",
   "metadata": {},
   "source": [
    "## Load data"
   ]
  },
  {
   "cell_type": "markdown",
   "id": "b6e39c0a-ccb3-476f-9d93-a13338805a88",
   "metadata": {},
   "source": [
    "### Set filepaths"
   ]
  },
  {
   "cell_type": "markdown",
   "id": "c65329af-344f-4b7e-92da-1d12401f1dd1",
   "metadata": {},
   "source": [
    "````{admonition} To-do\n",
    "Update the filepaths ```SERVER_FP``` and ```save_fp``` in the code cell below.\n",
    "````"
   ]
  },
  {
   "cell_type": "code",
   "execution_count": null,
   "id": "74eb8c3a-dd13-4c17-be12-a52d2e458682",
   "metadata": {
    "editable": true,
    "slideshow": {
     "slide_type": ""
    },
    "tags": []
   },
   "outputs": [],
   "source": [
    "## Path to file server\n",
    "# SERVER_FP = pathlib.Path(\"/vortexfs1/share\")\n",
    "SERVER_FP = pathlib.Path(\"/Volumes\")\n",
    "\n",
    "## Specify folder location for saving trimmed data (\"./\" means current directory)\n",
    "save_fp = pathlib.Path(\"./\")"
   ]
  },
  {
   "cell_type": "markdown",
   "id": "b2174c18-f322-4761-8852-56831c0ad804",
   "metadata": {},
   "source": [
    "### Load the data"
   ]
  },
  {
   "cell_type": "code",
   "execution_count": null,
   "id": "bd30b754-868e-45fe-a18e-c7ff93b59027",
   "metadata": {
    "editable": true,
    "slideshow": {
     "slide_type": ""
    },
    "tags": []
   },
   "outputs": [],
   "source": [
    "## keep track of loading time\n",
    "t0 = time.time()\n",
    "\n",
    "## shared arguments for loading data\n",
    "load_kwargs = dict(varname=\"SST\", member_id=10, preprocess_func=None)\n",
    "\n",
    "## Load data\n",
    "data_hist = load_simulation(simulation_type=\"hist\", **load_kwargs).compute()\n",
    "data_rcp = load_simulation(simulation_type=\"rcp85\", **load_kwargs).compute()\n",
    "\n",
    "## concatenate in time\n",
    "data = xr.concat([data_hist, data_rcp], dim=\"time\")\n",
    "\n",
    "## print out loading time\n",
    "t1 = time.time()\n",
    "print(f\"Elapsed time: {t1-t0:.1f} seconds\")"
   ]
  },
  {
   "cell_type": "markdown",
   "id": "cce44867-060f-4911-aa54-2acb54e9efcc",
   "metadata": {},
   "source": [
    "### Trim in lon/lat space"
   ]
  },
  {
   "cell_type": "markdown",
   "id": "d8cdfa35-fd05-4a25-85b1-4bfe39b8f7cb",
   "metadata": {
    "editable": true,
    "slideshow": {
     "slide_type": ""
    },
    "tags": []
   },
   "source": [
    "````{admonition} To-do\n",
    "If you'd like to look at a different region, change ```lon_range``` and ```lat_range``` in the preprocessing function below.\n",
    "````"
   ]
  },
  {
   "cell_type": "code",
   "execution_count": null,
   "id": "bc3a4576-c9b5-49cb-b14e-8abf3a4ee951",
   "metadata": {},
   "outputs": [],
   "source": [
    "## subset data by longitude\n",
    "data = trim(data, lon_range=[260, 360], lat_range=[0, 70])\n",
    "\n",
    "## swap longitude range from [0,360) to (-180, 180]\n",
    "data = swap_longitude_range(data)\n",
    "\n",
    "## make sure longitude is in ascending order\n",
    "data = sort_longitude(data)"
   ]
  },
  {
   "cell_type": "markdown",
   "id": "80443352-e67f-4004-ae26-6a71bfc050c5",
   "metadata": {},
   "source": [
    "### Downsample from monthly to seasonal averages"
   ]
  },
  {
   "cell_type": "code",
   "execution_count": null,
   "id": "4f126c76-73f5-472a-8464-9584420dd3c6",
   "metadata": {},
   "outputs": [],
   "source": [
    "## get seasonal averages (omit first/last timesteps)\n",
    "## (resample from monthly to quarterly starting with December, \"QS-DEC\")\n",
    "## averages will be: \"DJF\", \"MAM\", \"JJA\", \"SON\"\n",
    "data = data.resample({\"time\": \"QS-DEC\"}).mean()\n",
    "\n",
    "## omit first/last timesteps (don't have enough months for full seasonal avg)\n",
    "data = data.isel(time=slice(1, -1))"
   ]
  },
  {
   "cell_type": "markdown",
   "id": "51d314c3-21bb-442d-a21e-9c3975c19be9",
   "metadata": {},
   "source": [
    "### Plot a sample"
   ]
  },
  {
   "cell_type": "markdown",
   "id": "7004dbeb-28b0-430f-9f6f-fd5382cdb290",
   "metadata": {},
   "source": [
    "````{admonition} To-do\n",
    "If you're not looking at Woods Hole, you may need to adapt the plotting function below (```plot_setup_woodshole```).\n",
    "````"
   ]
  },
  {
   "cell_type": "code",
   "execution_count": null,
   "id": "5cf7619b-ed04-4c0f-bcc2-66b659ff0a95",
   "metadata": {},
   "outputs": [],
   "source": [
    "## blank canvas\n",
    "fig = plt.figure()\n",
    "\n",
    "## plot background\n",
    "fig, ax = plot_setup_atlantic(fig)\n",
    "\n",
    "\n",
    "## plot the data\n",
    "plot_data = ax.contourf(\n",
    "    data.TLONG,\n",
    "    data.TLAT,\n",
    "    data.isel(time=0),\n",
    "    cmap=\"cmo.thermal\",\n",
    "    levels=np.arange(-3, 30, 3),\n",
    "    transform=ccrs.PlateCarree(),\n",
    "    extend=\"min\",\n",
    ")\n",
    "\n",
    "## make a colorbar\n",
    "cb = fig.colorbar(plot_data, ticks=[-3, 12, 27])\n",
    "\n",
    "## plot outline of region\n",
    "ax = plot_box_outline(ax, lon_range=[287.5, 293.5], lat_range=[39, 44])\n",
    "\n",
    "plt.show()"
   ]
  },
  {
   "cell_type": "markdown",
   "id": "3d351eff-fdf0-42ac-ad9f-aaac49259080",
   "metadata": {},
   "source": [
    "## Statistics"
   ]
  },
  {
   "cell_type": "markdown",
   "id": "bb2c49dc-0c82-49d3-9045-1f1cc630f150",
   "metadata": {},
   "source": [
    "### Compute index"
   ]
  },
  {
   "cell_type": "markdown",
   "id": "f99dcfda-c529-43b4-b109-bcd9586dca29",
   "metadata": {},
   "source": [
    "````{admonition} To-do\n",
    "If you'd like to look at a different index, modify the function below.\n",
    "````"
   ]
  },
  {
   "cell_type": "code",
   "execution_count": null,
   "id": "6b47df93-7ca4-4023-a3b6-adcf22e6017b",
   "metadata": {
    "editable": true,
    "slideshow": {
     "slide_type": ""
    },
    "tags": []
   },
   "outputs": [],
   "source": [
    "def compute_T_wh(x):\n",
    "    \"\"\"Compute Woods Hole temperature index\"\"\"\n",
    "\n",
    "    ## get subset of data inside the box\n",
    "    data_subset = trim(x, lon_range=[-72.5, -66.5], lat_range=[39, 44])\n",
    "\n",
    "    ## compute spatial average\n",
    "    return data_subset.mean([\"nlon\", \"nlat\"])"
   ]
  },
  {
   "cell_type": "markdown",
   "id": "d96cc01a-d4ff-41c6-9eda-70ad209c782a",
   "metadata": {},
   "source": [
    "Do the computational, and get seasonal averages"
   ]
  },
  {
   "cell_type": "code",
   "execution_count": null,
   "id": "02c8f793-f587-4f23-9e4c-4bf89120ea36",
   "metadata": {
    "editable": true,
    "slideshow": {
     "slide_type": ""
    },
    "tags": []
   },
   "outputs": [],
   "source": [
    "## do the computation here\n",
    "idx = compute_T_wh(data)\n",
    "\n",
    "## compute SON average\n",
    "is_son = idx.time.dt.month == 9\n",
    "idx_son = idx.isel(time=is_son)\n",
    "idx_son[\"time\"] = idx_son.time.dt.year"
   ]
  },
  {
   "cell_type": "markdown",
   "id": "f8bea78c-1401-438a-853b-624f255ff55a",
   "metadata": {},
   "source": [
    "### SON trend and anomalies"
   ]
  },
  {
   "cell_type": "code",
   "execution_count": null,
   "id": "fe495904-03de-40ee-b114-0f15ec32f974",
   "metadata": {},
   "outputs": [],
   "source": [
    "## compute trends (linear and quadratic)\n",
    "idx_son_trend1 = get_trend(idx_son, dim=\"time\", deg=1)\n",
    "idx_son_trend2 = get_trend(idx_son, dim=\"time\", deg=2)\n",
    "\n",
    "## estimate anomalies (using quadratic)\n",
    "idx_son_anom = idx_son - idx_son_trend2"
   ]
  },
  {
   "cell_type": "markdown",
   "id": "e9fecc6d-f31c-4b39-8a7e-a2282a11f9bd",
   "metadata": {},
   "source": [
    "#### Plotting function"
   ]
  },
  {
   "cell_type": "code",
   "execution_count": null,
   "id": "cbf2317c-0b07-44f5-83c5-2a5b1d684c49",
   "metadata": {},
   "outputs": [],
   "source": [
    "def setup_trend_plot():\n",
    "    \"\"\"create fig and axs for plotting trends\"\"\"\n",
    "\n",
    "    ## blank canvas\n",
    "    fig, axs = plt.subplots(1, 2, figsize=(7, 2.75), layout=\"constrained\")\n",
    "\n",
    "    #### label plots\n",
    "    for ax in axs:\n",
    "        ax.set_xticks([1920, 2006, 2080])\n",
    "        ax.set_xlabel(\"Year\")\n",
    "        ax.set_ylabel(r\"$^{\\circ}$C\")\n",
    "\n",
    "    axs[0].set_yticks([22, 24.5, 27])\n",
    "    axs[1].set_yticks([-1, 0, 1])\n",
    "    axs[0].set_title(\"Total\")\n",
    "    axs[1].set_title(\"Anomaly\")\n",
    "    axs[1].axhline(0, c=\"k\", zorder=0.5, lw=0.5)\n",
    "    axs[1].yaxis.tick_right()\n",
    "    axs[1].yaxis.set_label_position(\"right\")\n",
    "\n",
    "    for ax in axs:\n",
    "        ## plot boundary between HIST and RCP\n",
    "        ax.axvline(2006, ls=\"--\", lw=0.5, c=\"k\")\n",
    "\n",
    "    return fig, axs"
   ]
  },
  {
   "cell_type": "markdown",
   "id": "d916049e-b4d0-4726-9b9c-5f3a8ec31c51",
   "metadata": {},
   "source": [
    "#### Make the plot"
   ]
  },
  {
   "cell_type": "code",
   "execution_count": null,
   "id": "2c3b6e55-5b7d-4bcd-958b-52fd109ddeb6",
   "metadata": {},
   "outputs": [],
   "source": [
    "fig, axs = setup_trend_plot()\n",
    "\n",
    "## plot raw index\n",
    "axs[0].plot(idx_son.time, idx_son, c=\"gray\", label=\"Raw\")\n",
    "\n",
    "# get list for (i) trends and (ii) corresponding linestyles\n",
    "trends = [idx_son_trend1, idx_son_trend2]\n",
    "linestyles = [\"--\", \"-\"]\n",
    "\n",
    "# plot each trend with corresponding linestyle\n",
    "for i, (trend, ls) in enumerate(zip(trends, linestyles), start=1):\n",
    "\n",
    "    kwargs = dict(c=\"r\", ls=ls, label=f\"Trend (degree {i})\")\n",
    "    axs[0].plot(trend.time, trend, **kwargs)\n",
    "\n",
    "## on RHS sub-panel, plot anomalies\n",
    "axs[1].plot(idx_son_anom.time, idx_son_anom, c=\"gray\")\n",
    "\n",
    "## add legend\n",
    "axs[0].legend(prop=dict(size=8))\n",
    "\n",
    "plt.show()"
   ]
  },
  {
   "cell_type": "markdown",
   "id": "491f5527-9050-44af-a5ca-3e0582989e04",
   "metadata": {},
   "source": [
    "## Spatial pattern of warming"
   ]
  },
  {
   "cell_type": "markdown",
   "id": "597b235f-2578-4539-92e8-911431891ca2",
   "metadata": {},
   "source": [
    "#### Function to compute climatology for given period and month"
   ]
  },
  {
   "cell_type": "code",
   "execution_count": null,
   "id": "893c8897-35e2-410d-aed5-1f53e40d8786",
   "metadata": {},
   "outputs": [],
   "source": [
    "def get_clim(data, yr_range, QS_month=9):\n",
    "    \"\"\"function to get SON climatology for specified range\"\"\"\n",
    "\n",
    "    ## find samples in given quarter\n",
    "    in_quarter = data.time.dt.month == QS_month\n",
    "\n",
    "    ## subset for samples in quarter\n",
    "    data_subset = data.sel(time=in_quarter)\n",
    "\n",
    "    ## subset for samples in year range\n",
    "    data_subset = data_subset.sel(time=slice(*yr_range))\n",
    "\n",
    "    ## average in time\n",
    "    return data_subset.mean(\"time\")"
   ]
  },
  {
   "cell_type": "markdown",
   "id": "dfd82602-dd7a-4e61-99eb-89f3e206634e",
   "metadata": {},
   "source": [
    "#### Do computation"
   ]
  },
  {
   "cell_type": "code",
   "execution_count": null,
   "id": "ca99f74d-ae3a-4dcc-bdad-0c8c3cf73cf4",
   "metadata": {},
   "outputs": [],
   "source": [
    "## compare SON averages in two 30-yr periods\n",
    "yr_range0 = [\"1980\", \"2010\"]\n",
    "yr_range1 = [\"2050\", \"2080\"]\n",
    "\n",
    "## get SON climatology for each period\n",
    "clim0 = get_clim(data, yr_range=yr_range0, QS_month=9)\n",
    "clim1 = get_clim(data, yr_range=yr_range1, QS_month=9)\n",
    "\n",
    "## get difference\n",
    "delta_clim = clim1 - clim0"
   ]
  },
  {
   "cell_type": "markdown",
   "id": "13accc7f-8917-4df6-b449-91cfce807c05",
   "metadata": {},
   "source": [
    "#### Plot difference"
   ]
  },
  {
   "cell_type": "code",
   "execution_count": null,
   "id": "f8440392-8f5c-4bab-8bf2-f9da20c92d5d",
   "metadata": {},
   "outputs": [],
   "source": [
    "## blank canvas\n",
    "fig = plt.figure()\n",
    "\n",
    "## plot background\n",
    "fig, ax = plot_setup_atlantic(fig)\n",
    "\n",
    "## plot the difference\n",
    "plot_data = ax.pcolormesh(\n",
    "    data.TLONG,\n",
    "    data.TLAT,\n",
    "    delta_clim,\n",
    "    cmap=\"cmo.amp\",\n",
    "    vmax=4,\n",
    "    vmin=1,\n",
    "    transform=ccrs.PlateCarree(),\n",
    ")\n",
    "\n",
    "## plot the background state\n",
    "ax.contour(\n",
    "    data.TLONG,\n",
    "    data.TLAT,\n",
    "    clim0,\n",
    "    colors=\"w\",\n",
    "    levels=np.arange(-2, 34, 4),\n",
    "    transform=ccrs.PlateCarree(),\n",
    "    extend=\"both\",\n",
    "    linewidths=1,\n",
    "    alpha=0.7,\n",
    ")\n",
    "\n",
    "## make a colorbar\n",
    "cb = fig.colorbar(plot_data, ticks=[1, 4], label=r\"$^{\\circ}$C\")\n",
    "\n",
    "## plot outline of region\n",
    "ax = plot_box_outline(ax, lon_range=[287.5, 293.5], lat_range=[39, 44])\n",
    "\n",
    "## label\n",
    "ax.set_title(r\"$\\Delta$(SST) b/n 1980-2010 and 2050-2080\")\n",
    "\n",
    "plt.show()"
   ]
  },
  {
   "cell_type": "markdown",
   "id": "bd6b80eb-6069-495d-8afa-9f30e9f6a576",
   "metadata": {},
   "source": [
    "## Scratch"
   ]
  },
  {
   "cell_type": "markdown",
   "id": "b1e9107b-e6f5-4b03-8ec5-e28bd3ac1403",
   "metadata": {},
   "source": [
    "Plot difference"
   ]
  },
  {
   "cell_type": "markdown",
   "id": "d7c2ed4c-4540-4fdf-be56-5d6b331e2718",
   "metadata": {},
   "source": [
    "Lets plot the annual mean"
   ]
  },
  {
   "cell_type": "markdown",
   "id": "2b09e6ad-b368-4369-8cb0-838ac205b19d",
   "metadata": {},
   "source": [
    "Compute temperature change over two pairs of periods"
   ]
  },
  {
   "cell_type": "code",
   "execution_count": null,
   "id": "1f699497-e5e6-4716-a8b8-16d65e4b2a9e",
   "metadata": {},
   "outputs": [],
   "source": [
    "def get_delta_T_pdf(T, t0, t1, bin_edges):\n",
    "    \"\"\"function to compute PDFs of temperature difference between two periods\"\"\"\n",
    "\n",
    "    ## get delta T\n",
    "    delta_T = T.sel(time=t1).squeeze() - T.sel(time=t0).squeeze()\n",
    "\n",
    "    ## create PDF\n",
    "    pdf, _ = get_empirical_pdf(delta_T, bin_edges)\n",
    "\n",
    "    return pdf\n",
    "\n",
    "\n",
    "## specify params for PDF\n",
    "kwargs0 = dict(t0=\"1924\", t1=\"2000\", bin_edges=np.arange(-0.3, 1.9, 0.15))\n",
    "kwargs1 = dict(t0=\"2000\", t1=\"2076\", bin_edges=np.arange(2, 4.5, 0.2))\n",
    "\n",
    "## compute PDFs for each period\n",
    "pdf_mar_0 = get_delta_T_pdf(idx_mar_norm, **kwargs0)\n",
    "pdf_sep_0 = get_delta_T_pdf(idx_sep_norm, **kwargs0)\n",
    "pdf_mar_1 = get_delta_T_pdf(idx_mar_norm, **kwargs1)\n",
    "pdf_sep_1 = get_delta_T_pdf(idx_sep_norm, **kwargs1)"
   ]
  },
  {
   "cell_type": "markdown",
   "id": "811623fb-7bfd-4d41-8bbc-0ff82ed330f0",
   "metadata": {},
   "source": [
    "Plot result"
   ]
  },
  {
   "cell_type": "code",
   "execution_count": null,
   "id": "4e9371f7-d29b-47b7-b1de-b6207bfbfb5f",
   "metadata": {},
   "outputs": [],
   "source": [
    "## Set up plot\n",
    "fig, axs = plt.subplots(1, 2, figsize=(5, 2.75), layout=\"constrained\")\n",
    "\n",
    "## plot style for march\n",
    "mar_kwargs = dict(fill=True, alpha=0.3, label=\"Mar\")\n",
    "sep_kwargs = dict(lw=1.5, label=\"Sep\")\n",
    "\n",
    "## plot temperature change for first period\n",
    "axs[0].stairs(pdf_mar_0, edges=kwargs0[\"bin_edges\"], **mar_kwargs)\n",
    "axs[0].stairs(pdf_sep_0, edges=kwargs0[\"bin_edges\"], **sep_kwargs)\n",
    "\n",
    "## plot for second period\n",
    "axs[1].stairs(pdf_mar_1, edges=kwargs1[\"bin_edges\"], **mar_kwargs)\n",
    "axs[1].stairs(pdf_sep_1, edges=kwargs1[\"bin_edges\"], **sep_kwargs)\n",
    "\n",
    "## set axis limits\n",
    "axs[0].set_xlim([-0.75, 2.25])\n",
    "axs[1].set_xlim([1.5, 4.5])\n",
    "for ax in axs:\n",
    "    ax.set_ylim([0, 3])\n",
    "\n",
    "## label\n",
    "axs[0].legend(prop=dict(size=8))\n",
    "axs[0].set_title(f\"{kwargs0['t0']}-{kwargs0['t1']}\")\n",
    "axs[1].set_title(f\"{kwargs1['t0']}-{kwargs1['t1']}\")\n",
    "axs[0].set_xticks([-0.5, 0.5, 1.5])\n",
    "axs[1].set_xticks([2, 3, 4])\n",
    "axs[0].set_yticks([0, 1.5, 3])\n",
    "axs[1].set_yticks([])\n",
    "axs[0].set_ylabel(\"Prob. density\")\n",
    "for ax in axs:\n",
    "    ax.set_xlabel(r\"$\\Delta T$ ($^{\\circ}$C)\")\n",
    "\n",
    "## save to file\n",
    "if SAVE_FIGS:\n",
    "    fig.savefig(\"figs/histograms.svg\")\n",
    "\n",
    "plt.show()"
   ]
  },
  {
   "cell_type": "markdown",
   "id": "90f62f27-5356-440d-8241-044e82dd47a8",
   "metadata": {},
   "source": [
    "## Look at change in standard deviation (spatial pattern)"
   ]
  },
  {
   "cell_type": "code",
   "execution_count": null,
   "id": "5ca482d3-b0e2-4173-83d5-5ef5d87d4b62",
   "metadata": {},
   "outputs": [],
   "source": [
    "## get internval variability signal\n",
    "data_iv = data - data.mean(\"member\")\n",
    "\n",
    "## compute standard dev over first/last 30 years of simulation\n",
    "std_init = data_iv.isel(time=slice(None, 360)).std([\"time\", \"member\"], skipna=False)\n",
    "std_end = data_iv.isel(time=slice(-360, None)).std([\"time\", \"member\"], skipna=False)\n",
    "\n",
    "## get percentage change\n",
    "std_pct_change = 100 * (std_end - std_init) / std_init"
   ]
  },
  {
   "cell_type": "markdown",
   "id": "c6107117-45ca-4ac3-b583-45e88e7af2a8",
   "metadata": {},
   "source": [
    "### Plot initial standard deviation result "
   ]
  },
  {
   "cell_type": "code",
   "execution_count": null,
   "id": "f14e829b-1e2b-4258-87ba-c3126415c37e",
   "metadata": {},
   "outputs": [],
   "source": [
    "## blank canvas\n",
    "fig = plt.figure()\n",
    "\n",
    "## plot background\n",
    "fig, ax = plot_setup_woodshole(fig)\n",
    "\n",
    "\n",
    "## plot the data\n",
    "plot_data = ax.pcolormesh(\n",
    "    std_init.TLONG,\n",
    "    std_init.TLAT,\n",
    "    std_init,\n",
    "    cmap=\"cmo.amp\",\n",
    "    vmax=1,\n",
    "    vmin=0.3,\n",
    "    transform=ccrs.PlateCarree(),\n",
    ")\n",
    "\n",
    "## make a colorbar\n",
    "cb = fig.colorbar(\n",
    "    plot_data,\n",
    "    fraction=0.015,\n",
    "    pad=0.05,\n",
    "    ticks=[0.3, 1],\n",
    "    label=r\"Std. dev. ($^{\\circ}$C)\",\n",
    ")\n",
    "\n",
    "## plot outline of region\n",
    "ax = plot_box_outline(ax, lon_range=[287.5, 293.5], lat_range=[39, 44])\n",
    "\n",
    "## Label\n",
    "ax.set_title(\"Standard dev. of SST (1920-1950)\")\n",
    "\n",
    "plt.show()"
   ]
  },
  {
   "cell_type": "markdown",
   "id": "88c14e81-8d7f-42dc-901d-4875026ce46c",
   "metadata": {},
   "source": [
    "### Plot % change"
   ]
  },
  {
   "cell_type": "code",
   "execution_count": null,
   "id": "ac5c4912-f937-4348-b509-c88a044766bb",
   "metadata": {},
   "outputs": [],
   "source": [
    "## blank canvas\n",
    "fig = plt.figure(layout=\"constrained\")\n",
    "\n",
    "## plot background\n",
    "fig, ax = plot_setup_woodshole(fig)\n",
    "\n",
    "\n",
    "## plot the data\n",
    "plot_data = ax.pcolormesh(\n",
    "    std_init.TLONG,\n",
    "    std_init.TLAT,\n",
    "    std_pct_change,\n",
    "    cmap=\"cmo.balance\",\n",
    "    vmax=40,\n",
    "    vmin=-40,\n",
    "    transform=ccrs.PlateCarree(),\n",
    ")\n",
    "\n",
    "## make a colorbar\n",
    "cb = fig.colorbar(\n",
    "    plot_data, fraction=0.015, pad=0.05, ticks=[-40, 0, 40], label=\"% change\"\n",
    ")\n",
    "\n",
    "## plot outline of region\n",
    "ax = plot_box_outline(ax, lon_range=[287.5, 293.5], lat_range=[39, 44])\n",
    "\n",
    "## label\n",
    "ax.set_title(\"Change in standard dev. of SST (1935-2065)\")\n",
    "\n",
    "## save to  file\n",
    "if SAVE_FIGS:\n",
    "    fig.savefig(\"figs/sigma-change.svg\")\n",
    "\n",
    "plt.show()"
   ]
  },
  {
   "cell_type": "code",
   "execution_count": null,
   "id": "0502dbac-fb97-45ef-afde-7a057f3d9102",
   "metadata": {},
   "outputs": [],
   "source": []
  }
 ],
 "metadata": {
  "kernelspec": {
   "display_name": "Python 3 (ipykernel)",
   "language": "python",
   "name": "python3"
  },
  "language_info": {
   "codemirror_mode": {
    "name": "ipython",
    "version": 3
   },
   "file_extension": ".py",
   "mimetype": "text/x-python",
   "name": "python",
   "nbconvert_exporter": "python",
   "pygments_lexer": "ipython3",
   "version": "3.11.12"
  }
 },
 "nbformat": 4,
 "nbformat_minor": 5
}
