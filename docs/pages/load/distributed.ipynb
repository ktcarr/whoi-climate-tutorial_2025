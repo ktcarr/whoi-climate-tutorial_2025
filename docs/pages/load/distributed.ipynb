{
 "cells": [
  {
   "cell_type": "code",
   "execution_count": null,
   "id": "698c699e-8491-4d02-89cf-6b6ae8c951b3",
   "metadata": {},
   "outputs": [],
   "source": [
    "## packages\n",
    "import intake\n",
    "import time\n",
    "import xarray as xr\n",
    "from distributed import LocalCluster, Client"
   ]
  },
  {
   "cell_type": "code",
   "execution_count": null,
   "id": "4598fa41-cc27-4add-b1ab-e8e19dceeaa1",
   "metadata": {},
   "outputs": [],
   "source": [
    "# If not using NCAR HPC, use the LocalCluster\n",
    "cluster = LocalCluster(n_workers=16)\n",
    "# cluster.scale(32)\n",
    "\n",
    "client = Client(cluster)\n",
    "client"
   ]
  },
  {
   "cell_type": "code",
   "execution_count": null,
   "id": "e9c1bae4-ab55-4a82-afbd-af4e9b5c6953",
   "metadata": {},
   "outputs": [],
   "source": [
    "cluster"
   ]
  },
  {
   "cell_type": "code",
   "execution_count": null,
   "id": "15687491-5246-4a8a-94b2-f47077dfce65",
   "metadata": {},
   "outputs": [],
   "source": [
    "## get catalog of available data\n",
    "catalog = intake.open_esm_datastore(\n",
    "    \"https://raw.githubusercontent.com/NCAR/cesm2-le-aws/main/intake-catalogs/aws-cesm2-le.json\"\n",
    ")\n",
    "\n",
    "## subset for temperature data\n",
    "catalog_subset = catalog.search(\n",
    "    variable=\"TREFHT\", frequency=\"monthly\", experiment=\"historical\"\n",
    ")\n",
    "\n",
    "## open_dataset kwargs\n",
    "xr_kwargs = dict(\n",
    "    engine=\"zarr\",\n",
    "    decode_timedelta=True,\n",
    "    # chunks=dict(member=1, time=1024, nlat=None, nlon=None),\n",
    ")\n",
    "\n",
    "## kwargs for opening data\n",
    "kwargs = dict(\n",
    "    aggregate=True,\n",
    "    xarray_open_kwargs=xr_kwargs,\n",
    "    zarr_kwargs={\"consolidated\": True},\n",
    "    storage_options={\"anon\": True},\n",
    ")\n",
    "\n",
    "## load data\n",
    "dsets = catalog_subset.to_dataset_dict(**kwargs)\n",
    "data = dsets[\"atm.historical.monthly.cmip6\"]"
   ]
  },
  {
   "cell_type": "code",
   "execution_count": null,
   "id": "daf1629e-98e4-407d-8cc1-55a5ab9601be",
   "metadata": {},
   "outputs": [],
   "source": [
    "data[\"TREFHT\"]"
   ]
  },
  {
   "cell_type": "code",
   "execution_count": null,
   "id": "aa1b8ec0-71ce-4ff1-9650-828d82dae0a1",
   "metadata": {},
   "outputs": [],
   "source": [
    "## specify lat/lon range\n",
    "lonlat_vals = dict(lon=slice(285, 295), lat=slice(35, 45))\n",
    "\n",
    "## trim in lon/lat space\n",
    "data_ = data[\"TREFHT\"].sel(lonlat_vals).isel(member_id=slice(None,16))"
   ]
  },
  {
   "cell_type": "code",
   "execution_count": null,
   "id": "1392524f-4a4b-4271-bd69-0889550021dc",
   "metadata": {},
   "outputs": [],
   "source": [
    "t0 = time.time()\n",
    "data_.load();\n",
    "t1 = time.time()"
   ]
  },
  {
   "cell_type": "code",
   "execution_count": null,
   "id": "a7168c32-c3cc-4289-a5b6-231ea2f3a8e5",
   "metadata": {},
   "outputs": [],
   "source": [
    "print(f\"{t1-t0:.1f} s\")"
   ]
  },
  {
   "cell_type": "code",
   "execution_count": null,
   "id": "bff9a09e-c60e-4991-a178-8c2a8aa9d264",
   "metadata": {},
   "outputs": [],
   "source": [
    "client.shutdown()"
   ]
  },
  {
   "cell_type": "code",
   "execution_count": null,
   "id": "11124499-863a-49cc-ad9a-fa93186f3379",
   "metadata": {},
   "outputs": [],
   "source": [
    "data_"
   ]
  },
  {
   "cell_type": "code",
   "execution_count": null,
   "id": "07e05ab6-c93f-4ea8-a017-9bb687b7919d",
   "metadata": {},
   "outputs": [],
   "source": [
    "print(f\"{t1-t0:.1f} s\")"
   ]
  }
 ],
 "metadata": {
  "kernelspec": {
   "display_name": "Python 3 (ipykernel)",
   "language": "python",
   "name": "python3"
  },
  "language_info": {
   "codemirror_mode": {
    "name": "ipython",
    "version": 3
   },
   "file_extension": ".py",
   "mimetype": "text/x-python",
   "name": "python",
   "nbconvert_exporter": "python",
   "pygments_lexer": "ipython3",
   "version": "3.11.12"
  }
 },
 "nbformat": 4,
 "nbformat_minor": 5
}
