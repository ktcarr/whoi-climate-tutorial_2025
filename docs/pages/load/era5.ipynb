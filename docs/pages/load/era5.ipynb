{
 "cells": [
  {
   "cell_type": "code",
   "execution_count": null,
   "id": "c34d7845-ba82-45e8-aac1-bce6deaf2026",
   "metadata": {},
   "outputs": [],
   "source": [
    "# import xarray as xr\n",
    "# import time\n",
    "\n",
    "# ## open data and get SST\n",
    "# data = xr.open_zarr(\n",
    "#     \"gs://weatherbench2/datasets/era5/1959-2023_01_10-6h-240x121_equiangular_with_poles_conservative.zarr\",\n",
    "#     chunks = dict(time=1024),\n",
    "# )\n",
    "\n",
    "# data = data[\"sea_surface_temperature\"]\n",
    "\n",
    "# data.resample({\"time\":\"MS\"}).mean()\n",
    "\n",
    "# t0 = time.time()\n",
    "# data.load()\n",
    "# t1 = time.time()"
   ]
  }
 ],
 "metadata": {
  "kernelspec": {
   "display_name": "Python 3 (ipykernel)",
   "language": "python",
   "name": "python3"
  },
  "language_info": {
   "codemirror_mode": {
    "name": "ipython",
    "version": 3
   },
   "file_extension": ".py",
   "mimetype": "text/x-python",
   "name": "python",
   "nbconvert_exporter": "python",
   "pygments_lexer": "ipython3",
   "version": "3.11.12"
  }
 },
 "nbformat": 4,
 "nbformat_minor": 5
}
