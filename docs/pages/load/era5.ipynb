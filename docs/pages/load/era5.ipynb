{
 "cells": [
  {
   "cell_type": "code",
   "execution_count": null,
   "id": "597af490-1683-4c90-9a83-971b4a1ba994",
   "metadata": {},
   "outputs": [],
   "source": [
    "import xarray as xr\n",
    "import time"
   ]
  },
  {
   "cell_type": "code",
   "execution_count": null,
   "id": "aa295a4c-d621-49e9-91ff-9c107a1e16bd",
   "metadata": {},
   "outputs": [],
   "source": [
    "## open data and get SST\n",
    "data = xr.open_zarr(\n",
    "    \"gs://weatherbench2/datasets/era5/1959-2023_01_10-6h-240x121_equiangular_with_poles_conservative.zarr\",\n",
    "    chunks = dict(time=1024),\n",
    ")\n",
    "\n",
    "data = data[\"sea_surface_temperature\"]"
   ]
  },
  {
   "cell_type": "code",
   "execution_count": null,
   "id": "e8cf8c24-8a81-449f-bf0e-15e6fc336609",
   "metadata": {},
   "outputs": [],
   "source": [
    "data.resample({\"time\":\"MS\"}).mean()"
   ]
  },
  {
   "cell_type": "code",
   "execution_count": null,
   "id": "97497bb3-6831-44fb-82ac-14c8a072fb53",
   "metadata": {},
   "outputs": [],
   "source": [
    "data"
   ]
  },
  {
   "cell_type": "code",
   "execution_count": null,
   "id": "8585c199-d884-4e08-93b4-cff95bb70215",
   "metadata": {},
   "outputs": [],
   "source": [
    "## subset for lon/lat range\n",
    "lonlat_idx = dict(longitude=slice(200,300), latitude=slice(60,20))\n",
    "data = data.sel(**lonlat_idx)\n",
    "\n",
    "## resample in time\n",
    "data = data.resample({\"time\":\"MS\"}).mean()"
   ]
  },
  {
   "cell_type": "code",
   "execution_count": null,
   "id": "67d8ec58-5b6a-4421-a2cf-fd92ab85b1de",
   "metadata": {},
   "outputs": [],
   "source": [
    "t0 = time.time()\n",
    "data.load()\n",
    "t1 = time.time()"
   ]
  },
  {
   "cell_type": "code",
   "execution_count": null,
   "id": "cc8e4f55-e5c0-43b4-a11a-c73caec4e8c7",
   "metadata": {},
   "outputs": [],
   "source": [
    "data"
   ]
  }
 ],
 "metadata": {
  "kernelspec": {
   "display_name": "Python 3 (ipykernel)",
   "language": "python",
   "name": "python3"
  },
  "language_info": {
   "codemirror_mode": {
    "name": "ipython",
    "version": 3
   },
   "file_extension": ".py",
   "mimetype": "text/x-python",
   "name": "python",
   "nbconvert_exporter": "python",
   "pygments_lexer": "ipython3",
   "version": "3.11.12"
  }
 },
 "nbformat": 4,
 "nbformat_minor": 5
}
