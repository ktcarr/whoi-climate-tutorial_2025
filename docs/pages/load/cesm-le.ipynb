{
 "cells": [
  {
   "cell_type": "markdown",
   "id": "4c3f4154-3e00-45f9-a22f-073a5832d4f9",
   "metadata": {},
   "source": [
    "# CESM loading from cloud"
   ]
  },
  {
   "cell_type": "markdown",
   "id": "0147edc8-8c72-4455-8d2f-f7784966fcf0",
   "metadata": {},
   "source": [
    "## Imports"
   ]
  },
  {
   "cell_type": "code",
   "execution_count": null,
   "id": "31e115ae-b931-4b14-86a9-bb49f846c1bb",
   "metadata": {},
   "outputs": [],
   "source": [
    "## packages\n",
    "import intake\n",
    "import time\n",
    "import xarray as xr\n",
    "from distributed import LocalCluster, Client"
   ]
  },
  {
   "cell_type": "markdown",
   "id": "36f2a6e1-8365-4347-8b4f-771f7f52855d",
   "metadata": {},
   "source": [
    "## Functions"
   ]
  },
  {
   "cell_type": "code",
   "execution_count": null,
   "id": "92d77d1d-e443-4c93-8a23-40d2f6350521",
   "metadata": {},
   "outputs": [],
   "source": [
    "def load_cesm_from_cloud_parallel(n_workers=4, **kwargs):\n",
    "    \"\"\"wrapper function to parallelize data loading. Args:\n",
    "        - n_workers: how many workers to parallelize with\n",
    "        - **kwargs: arguments passed to 'load_cesm_from_cloud' function\n",
    "    \"\"\"\n",
    "\n",
    "    ## initialize cluster\n",
    "    cluster = LocalCluster(n_workers=n_workers)\n",
    "    client = Client(cluster)\n",
    "\n",
    "    ## load data\n",
    "    data = load_cesm_from_cloud(**kwargs)\n",
    "\n",
    "    ## shutdown cluster\n",
    "    client.shutdown()\n",
    "\n",
    "    return data\n",
    "\n",
    "def load_cesm_from_cloud(lon_range, lat_range, varname=\"TREFHT\", load_ssp370=False, n_members=8):\n",
    "    \"\"\"Load CESM data from cloud. Args:\n",
    "        - lon_range, lat_range: each is a two-element array\n",
    "        - varname: variable to load (\"TREFHT\" is 2m-temperature)\n",
    "        - load_ssp370: bool; if True, load historical AND ssp370 simulations\n",
    "        - n_members: number of ensemble members to load\n",
    "    \"\"\"\n",
    "\n",
    "    ## get catalog of available data\n",
    "    catalog = intake.open_esm_datastore(\n",
    "        \"https://raw.githubusercontent.com/NCAR/cesm2-le-aws/main/intake-catalogs/aws-cesm2-le.json\"\n",
    "    )\n",
    "    \n",
    "    ## subset for temperature data\n",
    "    ## to look at available data, use: catalog.df\n",
    "    catalog_subset = catalog.search(variable=varname, frequency=\"monthly\")\n",
    "    \n",
    "    ## kwargs for opening data\n",
    "    kwargs = dict(\n",
    "        aggregate=True,\n",
    "        xarray_open_kwargs=dict(engine=\"zarr\",decode_timedelta=True),\n",
    "        zarr_kwargs={\"consolidated\": True},\n",
    "        storage_options={\"anon\": True},\n",
    "    )\n",
    "    \n",
    "    ## open data (but don't load to memory)\n",
    "    dsets = catalog_subset.to_dataset_dict(**kwargs)\n",
    "    data = dsets[\"atm.historical.monthly.cmip6\"]\n",
    "\n",
    "    ## optionally load ssp data as well\n",
    "    if load_ssp370:\n",
    "        data = xr.concat([data, dsets[\"atm.ssp370.monthly.cmip6\"]], dim=\"time\")\n",
    "\n",
    "    ## trim data (select ensemble members and lon/lat space)\n",
    "    lonlat_idx = dict(lon=slice(*lon_range), lat=slice(*lat_range))\n",
    "    data = data.sel(lonlat_idx).isel(member_id=slice(None,n_members))\n",
    "\n",
    "    ## Load data to memory\n",
    "    return data[varname].compute()"
   ]
  },
  {
   "cell_type": "markdown",
   "id": "1782e3aa-643d-4399-a5cc-7e1d4b4f0475",
   "metadata": {},
   "source": [
    "## Test"
   ]
  },
  {
   "cell_type": "code",
   "execution_count": null,
   "id": "e4ffd0aa-feae-41c7-a0fe-b5ee9fc08d6e",
   "metadata": {},
   "outputs": [],
   "source": [
    "## specify kwargs\n",
    "kwargs = dict(lon_range=[280, 300], lat_range=[35, 45], n_members=8, load_ssp370=True)\n",
    "kwargs = dict(lon_range=[285, 295], lat_range=[35, 45], n_members=8, load_ssp370=True)\n",
    "\n",
    "t0 = time.time()\n",
    "data0 = load_cesm_from_cloud(**kwargs)\n",
    "print(f\"{time.time()-t0:.1f} seconds\")\n",
    "\n",
    "t0 = time.time()\n",
    "data0 = load_cesm_from_cloud_parallel(n_workers=8, **kwargs)\n",
    "print(f\"{time.time()-t0:.1f} seconds\")"
   ]
  },
  {
   "cell_type": "code",
   "execution_count": null,
   "id": "07cf8a67-3e38-45c1-8b86-1a9dd5b1add3",
   "metadata": {},
   "outputs": [],
   "source": [
    "d = xr.open_dataset(\"../single_model_ensemble/data/SST_hist.nc\")"
   ]
  },
  {
   "cell_type": "code",
   "execution_count": null,
   "id": "2af2d3c6-6c5d-439d-ba06-c10dc8dcf3e0",
   "metadata": {},
   "outputs": [],
   "source": [
    "data0.isel(time=0, member_id=0)"
   ]
  },
  {
   "cell_type": "code",
   "execution_count": null,
   "id": "6d246042-4758-4963-b6e5-587ea26d5f51",
   "metadata": {},
   "outputs": [],
   "source": [
    "d.TLONG.values.min()"
   ]
  },
  {
   "cell_type": "markdown",
   "id": "112fcf59-eb84-4245-9fbe-c1d952a59557",
   "metadata": {},
   "source": [
    "## Old version"
   ]
  },
  {
   "cell_type": "code",
   "execution_count": null,
   "id": "02d59c7c-9b32-42e5-9c81-150f257c6cb8",
   "metadata": {},
   "outputs": [],
   "source": [
    "## specify lat/lon range\n",
    "lonlat_vals = dict(lon=slice(285, 295), lat=slice(35, 45))\n",
    "\n",
    "## trim in lon/lat space\n",
    "data_ = data[\"TREFHT\"].sel(lonlat_vals)"
   ]
  },
  {
   "cell_type": "code",
   "execution_count": null,
   "id": "ed3fc432-180e-4d68-be93-8822e4712860",
   "metadata": {},
   "outputs": [],
   "source": [
    "t0 = time.time()\n",
    "data_.load();\n",
    "t1 = time.time()"
   ]
  },
  {
   "cell_type": "code",
   "execution_count": null,
   "id": "17d2d921-f6d3-4e35-a070-3a3271902394",
   "metadata": {},
   "outputs": [],
   "source": [
    "member_idx = dict(member_id=0)\n",
    "\n",
    "## load data into memory\n",
    "t0 = time.time()\n",
    "data_loaded = data[\"TREFHT\"].isel(member_idx).sel(lonlat_vals).compute()\n",
    "t1 = time.time()\n",
    "print(f\"Elapsed time: {t1-t0:.2f} seconds.\")"
   ]
  }
 ],
 "metadata": {
  "kernelspec": {
   "display_name": "Python 3 (ipykernel)",
   "language": "python",
   "name": "python3"
  },
  "language_info": {
   "codemirror_mode": {
    "name": "ipython",
    "version": 3
   },
   "file_extension": ".py",
   "mimetype": "text/x-python",
   "name": "python",
   "nbconvert_exporter": "python",
   "pygments_lexer": "ipython3",
   "version": "3.11.12"
  }
 },
 "nbformat": 4,
 "nbformat_minor": 5
}
