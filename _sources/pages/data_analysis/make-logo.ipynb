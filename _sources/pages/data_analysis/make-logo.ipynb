{
 "cells": [
  {
   "cell_type": "markdown",
   "id": "76237934-ca45-4bb3-98a7-5b2486b47c41",
   "metadata": {},
   "source": [
    "# Logo"
   ]
  },
  {
   "cell_type": "markdown",
   "id": "3805889c-31c8-4331-8242-142773715ed7",
   "metadata": {},
   "source": [
    "## Functions"
   ]
  },
  {
   "cell_type": "code",
   "execution_count": null,
   "id": "2c5b8ab1-4f24-4779-9a2f-5bf5cbc25c8c",
   "metadata": {},
   "outputs": [],
   "source": [
    "def plot_logo(corr):\n",
    "    \"\"\"\n",
    "    Make spatial plot of correlation, using the specified\n",
    "    plot setup function and pre-computed correlation.\n",
    "    Args:\n",
    "        - plot_setup_fn: function that returns a fig, ax object\n",
    "        - corr: xarray with spatial correlation\n",
    "        - x, y: lon/lat points for plotting\n",
    "    \"\"\"\n",
    "\n",
    "    ## blank canvas to plot on\n",
    "    fig = plt.figure(layout=\"constrained\")\n",
    "\n",
    "    ## draw background map of Atlantic\n",
    "    fig, ax = plot_logo_helper(fig)\n",
    "\n",
    "    ## plot the data\n",
    "    plot_data = ax.contourf(\n",
    "        corr.longitude,\n",
    "        corr.latitude,\n",
    "        corr,\n",
    "        transform=ccrs.PlateCarree(),\n",
    "        levels=make_cb_range(1, 0.1),\n",
    "        extend=\"both\",\n",
    "        cmap=\"seismic\",\n",
    "    )\n",
    "\n",
    "    ## Mark Woods Hole on map\n",
    "    ax.scatter(\n",
    "        288.5, 41.5, transform=ccrs.PlateCarree(), marker=\"*\", c=\"magenta\", s=100, zorder=10\n",
    "    )\n",
    "\n",
    "    ## add label\n",
    "    ax.text(\n",
    "        -.022,\n",
    "        .53,\n",
    "        s=f\"Woods Hole\\nclimate data\\ntutorial\", \n",
    "        transform=ax.transAxes, \n",
    "        bbox=dict(facecolor='w', alpha=1), \n",
    "        fontname=\"courier\"\n",
    "    )\n",
    "\n",
    "    return fig, ax\n",
    "\n",
    "def plot_logo_helper(fig):\n",
    "    \"\"\"Plot Atlantic region\"\"\"\n",
    "\n",
    "    ## adjust figure size\n",
    "    fig.set_size_inches(5, 3)\n",
    "\n",
    "    ## specify map projection\n",
    "    proj = ccrs.Orthographic(central_longitude=-55, central_latitude=40)\n",
    "\n",
    "    ## get ax object\n",
    "    ax = plot_setup(\n",
    "        fig,\n",
    "        proj,\n",
    "        lon_range=[-100, -10],\n",
    "        lat_range=[10, 70],\n",
    "        xticks=[],\n",
    "        yticks=[],\n",
    "    )\n",
    "\n",
    "    return fig, ax"
   ]
  },
  {
   "cell_type": "markdown",
   "id": "1a45330c-f989-447e-8714-ab508b8aff8d",
   "metadata": {},
   "source": [
    "## Make the logo"
   ]
  },
  {
   "cell_type": "code",
   "execution_count": null,
   "id": "82bc7798-ab43-40c6-80f7-2abacff82f2d",
   "metadata": {},
   "outputs": [],
   "source": [
    "# ## Make plot\n",
    "# fig, ax = plot_logo(corr=corr)\n",
    "\n",
    "# ## save to file\n",
    "# fig.savefig(\"figs/logo2.svg\")\n",
    "\n",
    "# plt.show()"
   ]
  }
 ],
 "metadata": {
  "kernelspec": {
   "display_name": "Python 3 (ipykernel)",
   "language": "python",
   "name": "python3"
  },
  "language_info": {
   "codemirror_mode": {
    "name": "ipython",
    "version": 3
   },
   "file_extension": ".py",
   "mimetype": "text/x-python",
   "name": "python",
   "nbconvert_exporter": "python",
   "pygments_lexer": "ipython3",
   "version": "3.11.12"
  }
 },
 "nbformat": 4,
 "nbformat_minor": 5
}
