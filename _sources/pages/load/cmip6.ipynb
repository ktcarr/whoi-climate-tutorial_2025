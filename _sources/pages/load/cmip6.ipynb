{
 "cells": [
  {
   "cell_type": "markdown",
   "id": "0b3fd4da-a9a6-4528-a883-41e9e8444fae",
   "metadata": {},
   "source": [
    "# Demo of loading CMIP data from cloud"
   ]
  },
  {
   "cell_type": "markdown",
   "id": "155e2638-4cc8-40a5-8f54-118b87afc727",
   "metadata": {},
   "source": [
    "Adapted from [Ryan Abernathey's demo](https://nbviewer.org/github/pangeo-data/pangeo-cmip6-examples/blob/master/basic_search_and_load.ipynb?source=post_page-----96b177abe396---------------------------------------)."
   ]
  },
  {
   "cell_type": "code",
   "execution_count": null,
   "id": "c6a4ba70-09f7-4da8-8b44-4a2d984c9e28",
   "metadata": {},
   "outputs": [],
   "source": [
    "from matplotlib import pyplot as plt\n",
    "import numpy as np\n",
    "import pandas as pd\n",
    "import xarray as xr\n",
    "import zarr\n",
    "import gcsfs\n",
    "import time"
   ]
  },
  {
   "cell_type": "code",
   "execution_count": null,
   "id": "6f7d5901-cc34-443d-9ab5-e69fa8da945d",
   "metadata": {},
   "outputs": [],
   "source": [
    "df = pd.read_csv(\n",
    "    \"https://storage.googleapis.com/cmip6/cmip6-zarr-consolidated-stores.csv\"\n",
    ")\n",
    "df_ta = df.query(\n",
    "    \"activity_id=='CMIP' & table_id == 'Amon' & variable_id == 'tas' & experiment_id == 'historical' & member_id == 'r1i1p1f1'\"\n",
    ")"
   ]
  },
  {
   "cell_type": "code",
   "execution_count": null,
   "id": "6f580687-7ea3-4f35-bbca-462250747162",
   "metadata": {},
   "outputs": [],
   "source": [
    "df_subset = df.query(\n",
    "    \"activity_id=='CMIP' & table_id == 'Omon' & variable_id == 'tos' & experiment_id == '1pctCO2' & member_id == 'r1i1p1f1'\"\n",
    ")"
   ]
  },
  {
   "cell_type": "markdown",
   "id": "8d846350-36e5-40bf-be7d-2bb810f4ae36",
   "metadata": {},
   "source": [
    "## Load information about data"
   ]
  },
  {
   "cell_type": "code",
   "execution_count": null,
   "id": "7501c348-e12f-4a9d-ac90-7e62c8a08a65",
   "metadata": {},
   "outputs": [],
   "source": [
    "## Open CSV file with information about available data\n",
    "t0 = time.time()\n",
    "df = pd.read_csv(\n",
    "    \"https://storage.googleapis.com/cmip6/cmip6-zarr-consolidated-stores.csv\"\n",
    ")\n",
    "t1 = time.time()\n",
    "print(\"Done loading model information.\")\n",
    "print(f\"Elapsed time: {(t1-t0)/60:.1f} seconds\")\n",
    "\n",
    "## subset for the data we want\n",
    "df_subset = df.query(\n",
    "    \"activity_id=='CMIP' & table_id == 'Omon' & variable_id == 'tos' & experiment_id == '1pctCO2' & member_id == 'r1i1p1f1'\"\n",
    ")\n",
    "\n",
    "## list of models\n",
    "models = [\n",
    "    (\"NCAR\", \"CESM2\"),\n",
    "    (\"NCAR\", \"CESM2-WACCM\"),\n",
    "    (\"CSIRO\", \"ACCESS-ESM1-5\"),\n",
    "    (\"MIROC\", \"MIROC6\"),\n",
    "    (\"MPI-M\", \"MPI-ESM1-2-LR\"),\n",
    "    (\"IPSL\", \"IPSL-CM6A-LR\"),\n",
    "    (\"NASA-GISS\", \"GISS-E2-2-G\"),\n",
    "]\n",
    "models_ = [m[1] for m in models]\n",
    "\n",
    "## subset for models\n",
    "df_models = df_subset[df_subset[\"source_id\"].isin(models_)]\n",
    "\n",
    "## get models on native grid\n",
    "df_models = df_models[df_models[\"grid_label\"] == \"gn\"]"
   ]
  },
  {
   "cell_type": "code",
   "execution_count": null,
   "id": "cf33a444-d0b0-42e9-aa9f-ca38d06daa92",
   "metadata": {},
   "outputs": [],
   "source": [
    "{name: link for name, link in zip(df_models[\"source_id\"], df_models[\"zstore\"])}"
   ]
  },
  {
   "cell_type": "markdown",
   "id": "fec6bd6d-0be6-4c86-925a-779ff3640f9c",
   "metadata": {},
   "source": [
    "## Open the data"
   ]
  },
  {
   "cell_type": "code",
   "execution_count": null,
   "id": "fdfc4630-96f0-47d3-9b99-a67cfaaa7909",
   "metadata": {},
   "outputs": [],
   "source": [
    "# this only needs to be created once\n",
    "gcs = gcsfs.GCSFileSystem(token=\"anon\")\n",
    "\n",
    "# get the path to a specific zarr store (the first one from the dataframe above)\n",
    "zstore = df_models.zstore.values[-1]\n",
    "\n",
    "# create a mutable-mapping-style interface to the store\n",
    "mapper = gcs.get_mapper(zstore)\n",
    "\n",
    "# open it using xarray and zarr\n",
    "ds = xr.open_zarr(mapper, consolidated=True)"
   ]
  }
 ],
 "metadata": {
  "kernelspec": {
   "display_name": "Python 3 (ipykernel)",
   "language": "python",
   "name": "python3"
  },
  "language_info": {
   "codemirror_mode": {
    "name": "ipython",
    "version": 3
   },
   "file_extension": ".py",
   "mimetype": "text/x-python",
   "name": "python",
   "nbconvert_exporter": "python",
   "pygments_lexer": "ipython3",
   "version": "3.11.12"
  }
 },
 "nbformat": 4,
 "nbformat_minor": 5
}
