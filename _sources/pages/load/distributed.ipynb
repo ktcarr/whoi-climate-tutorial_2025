{
 "cells": [
  {
   "cell_type": "code",
   "execution_count": null,
   "id": "698c699e-8491-4d02-89cf-6b6ae8c951b3",
   "metadata": {},
   "outputs": [],
   "source": [
    "# ## packages\n",
    "# import intake\n",
    "# import time\n",
    "# import xarray as xr\n",
    "# from distributed import LocalCluster, Client"
   ]
  },
  {
   "cell_type": "code",
   "execution_count": null,
   "id": "b34ffcaf-1f21-4be6-84b8-2184486df930",
   "metadata": {},
   "outputs": [],
   "source": [
    "# # If not using NCAR HPC, use the LocalCluster\n",
    "# cluster = LocalCluster(n_workers=16)\n",
    "# # cluster.scale(32)\n",
    "\n",
    "# client = Client(cluster)\n",
    "# client\n",
    "\n",
    "# ## get catalog of available data\n",
    "# catalog = intake.open_esm_datastore(\n",
    "#     \"https://raw.githubusercontent.com/NCAR/cesm2-le-aws/main/intake-catalogs/aws-cesm2-le.json\"\n",
    "# )\n",
    "\n",
    "# ## subset for temperature data\n",
    "# catalog_subset = catalog.search(\n",
    "#     variable=\"TREFHT\", frequency=\"monthly\", experiment=\"historical\"\n",
    "# )\n",
    "\n",
    "# ## open_dataset kwargs\n",
    "# xr_kwargs = dict(\n",
    "#     engine=\"zarr\",\n",
    "#     decode_timedelta=True,\n",
    "#     # chunks=dict(member=1, time=1024, nlat=None, nlon=None),\n",
    "# )\n",
    "\n",
    "# ## kwargs for opening data\n",
    "# kwargs = dict(\n",
    "#     aggregate=True,\n",
    "#     xarray_open_kwargs=xr_kwargs,\n",
    "#     zarr_kwargs={\"consolidated\": True},\n",
    "#     storage_options={\"anon\": True},\n",
    "# )\n",
    "\n",
    "# ## load data\n",
    "# dsets = catalog_subset.to_dataset_dict(**kwargs)\n",
    "# data = dsets[\"atm.historical.monthly.cmip6\"]\n",
    "\n",
    "# data[\"TREFHT\"]\n",
    "\n",
    "# ## specify lat/lon range\n",
    "# lonlat_vals = dict(lon=slice(285, 295), lat=slice(35, 45))\n",
    "\n",
    "# ## trim in lon/lat space\n",
    "# data_ = data[\"TREFHT\"].sel(lonlat_vals).isel(member_id=slice(None,16))\n",
    "\n",
    "# t0 = time.time()\n",
    "# data_.load();\n",
    "# t1 = time.time()\n",
    "\n",
    "# print(f\"{t1-t0:.1f} s\")\n",
    "\n",
    "# client.shutdown()\n",
    "\n",
    "# data_\n",
    "\n",
    "# print(f\"{t1-t0:.1f} s\")"
   ]
  }
 ],
 "metadata": {
  "kernelspec": {
   "display_name": "Python 3 (ipykernel)",
   "language": "python",
   "name": "python3"
  },
  "language_info": {
   "codemirror_mode": {
    "name": "ipython",
    "version": 3
   },
   "file_extension": ".py",
   "mimetype": "text/x-python",
   "name": "python",
   "nbconvert_exporter": "python",
   "pygments_lexer": "ipython3",
   "version": "3.11.12"
  }
 },
 "nbformat": 4,
 "nbformat_minor": 5
}
