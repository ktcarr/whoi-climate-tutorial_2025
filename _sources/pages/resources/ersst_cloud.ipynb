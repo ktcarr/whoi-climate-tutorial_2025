{
 "cells": [
  {
   "cell_type": "markdown",
   "id": "1274f579-9a52-4351-9b80-660dd9008d2d",
   "metadata": {},
   "source": [
    "# Using data from the cloud"
   ]
  },
  {
   "cell_type": "markdown",
   "id": "ae7291fa-4a43-4ffc-b682-3ed8af56c775",
   "metadata": {},
   "source": [
    "````{admonition} To-do\n",
    "**Activate your virtual environment and start a jupyterlab session**. For example, if your mamba/conda environment is called ```12860_env```, enter the following lines in a command window (the first line activates the virtual environment and the second line starts the jupyter session):\n",
    "```bash\n",
    "> conda activate 12860_env\n",
    "> jupyter lab\n",
    "```\n",
    "**Then, execute the cells in the rest of this notebook** (you can either copy/paste code to a blank notebook, or download this notebook directly).\n",
    "````"
   ]
  },
  {
   "cell_type": "markdown",
   "id": "4570dec1-6027-4729-9481-d5109a24521a",
   "metadata": {},
   "source": [
    "## Packages"
   ]
  },
  {
   "cell_type": "code",
   "execution_count": null,
   "id": "722a039b-a6e6-4b64-8a1e-cae20897bb3c",
   "metadata": {},
   "outputs": [],
   "source": [
    "import pathlib\n",
    "import numpy as np\n",
    "import xarray as xr\n",
    "import cartopy.crs as ccrs\n",
    "import matplotlib.pyplot as plt\n",
    "import matplotlib.dates as mdates\n",
    "import datetime\n",
    "import seaborn as sns\n",
    "import cmocean\n",
    "\n",
    "## (optional) remove gridlines from plots\n",
    "sns.set(rc={\"axes.facecolor\": \"white\", \"axes.grid\": False})"
   ]
  },
  {
   "cell_type": "markdown",
   "id": "57029336-f92e-4ab0-a1a3-34c439325899",
   "metadata": {},
   "source": [
    "## Open ERSST data"
   ]
  },
  {
   "cell_type": "code",
   "execution_count": null,
   "id": "8d68824e-1c10-4c5f-8f94-4b60a31aeb08",
   "metadata": {},
   "outputs": [],
   "source": [
    "## load from NOAA website\n",
    "sst = xr.open_dataset(\n",
    "    r\"http://psl.noaa.gov/thredds/dodsC/Datasets/noaa.ersst.v5/sst.mnmean.nc\"\n",
    ")\n",
    "\n",
    "## rename coordinates for consistency with other scripts\n",
    "sst = sst[\"sst\"].rename({\"lon\": \"longitude\", \"lat\": \"latitude\"})"
   ]
  },
  {
   "cell_type": "markdown",
   "id": "fd26d37d-c3bd-4e2e-805a-d8fa10a1eb95",
   "metadata": {},
   "source": [
    "```{note}\n",
    "If you get a ```NetCDF: HDF``` error, see the [FAQ page](../resources/FAQ.md).\n",
    "```"
   ]
  },
  {
   "cell_type": "markdown",
   "id": "8d422a78-997d-4fba-a192-f16e7dd8070e",
   "metadata": {},
   "source": [
    "## Plot a sample"
   ]
  },
  {
   "cell_type": "markdown",
   "id": "17c3a713-0cd2-49e8-983a-43552e5340e9",
   "metadata": {},
   "source": [
    "### Define functions for plotting"
   ]
  },
  {
   "cell_type": "code",
   "execution_count": null,
   "id": "a1789460-c7a2-4c37-a48a-7b7f1dbc3a34",
   "metadata": {},
   "outputs": [],
   "source": [
    "def plot_setup(fig, projection, lon_range, lat_range):\n",
    "    \"\"\"Add a subplot to the figure with the given map projection\n",
    "    and lon/lat range. Returns an Axes object.\"\"\"\n",
    "\n",
    "    ## Create subplot with given projection\n",
    "    ax = fig.add_subplot(projection=projection)\n",
    "\n",
    "    ## Subset to given region\n",
    "    extent = [*lon_range, *lat_range]\n",
    "    ax.set_extent(extent, crs=ccrs.PlateCarree())\n",
    "\n",
    "    ## draw coastlines\n",
    "    ax.coastlines()\n",
    "\n",
    "    return ax\n",
    "\n",
    "\n",
    "def plot_setup_pacific(fig):\n",
    "    \"\"\"Plot Pacific region\"\"\"\n",
    "\n",
    "    ## set map projection to orthographic\n",
    "    proj = ccrs.Orthographic(central_longitude=180, central_latitude=50)\n",
    "\n",
    "    return plot_setup(fig, proj, lon_range=[120, 240], lat_range=[30, 70])\n",
    "\n",
    "\n",
    "def plot_setup_atlantic(fig):\n",
    "    \"\"\"Plot Pacific region\"\"\"\n",
    "\n",
    "    ## set map projection to orthographic\n",
    "    proj = ccrs.Orthographic(central_longitude=-50, central_latitude=40)\n",
    "\n",
    "    return plot_setup(fig, proj, lon_range=[-100, 0], lat_range=[10, 70])"
   ]
  },
  {
   "cell_type": "markdown",
   "id": "a89ec9e7-f469-498a-a0da-7c17f61e5c83",
   "metadata": {},
   "source": [
    "### Make the plot"
   ]
  },
  {
   "cell_type": "markdown",
   "id": "47c0b8e1-cf7c-4c22-8c68-5c488267274c",
   "metadata": {},
   "source": [
    "Select which time index to plot"
   ]
  },
  {
   "cell_type": "code",
   "execution_count": null,
   "id": "00c9e0c5-9502-4c45-8805-49669da50fce",
   "metadata": {},
   "outputs": [],
   "source": [
    "## specify time index to plot\n",
    "t_idx = 0\n",
    "\n",
    "## get year and month for labeling\n",
    "year = sst.time.dt.year.values\n",
    "month = sst.time.dt.month.values"
   ]
  },
  {
   "cell_type": "markdown",
   "id": "d3e6022e-fad5-4514-902c-58fc5b61f8b3",
   "metadata": {},
   "source": [
    "Create the plot"
   ]
  },
  {
   "cell_type": "code",
   "execution_count": null,
   "id": "1c4bb104-c51b-468d-8e71-2f01b6299bdb",
   "metadata": {},
   "outputs": [],
   "source": [
    "## blank canvas to plot on\n",
    "fig = plt.figure(figsize=(8, 3))\n",
    "\n",
    "## draw background map\n",
    "ax = plot_setup_atlantic(fig)\n",
    "\n",
    "## plot the first timestep of 2m-temperature\n",
    "plot_data = ax.contourf(\n",
    "    sst.longitude,\n",
    "    sst.latitude,\n",
    "    sst.isel(time=0),\n",
    "    transform=ccrs.PlateCarree(),\n",
    "    levels=np.arange(-2, 30, 2),\n",
    "    cmap=\"cmo.thermal\",\n",
    "    extend=\"both\",\n",
    ")\n",
    "\n",
    "## create colorbath\n",
    "colorbar = fig.colorbar(plot_data, label=r\"$^{\\circ}$C\")\n",
    "\n",
    "## Mark Woods Hole on map\n",
    "ax.scatter(\n",
    "    288.5,\n",
    "    41.5,\n",
    "    transform=ccrs.PlateCarree(),\n",
    "    marker=\"*\",\n",
    "    c=\"magenta\",\n",
    "    s=150,\n",
    "    zorder=10,\n",
    ")\n",
    "\n",
    "## label\n",
    "ax.set_title(f\"SST ({year[t_idx]}-{month[t_idx]:02d})\")\n",
    "\n",
    "plt.show()"
   ]
  },
  {
   "cell_type": "markdown",
   "id": "dc0e3506-3b9a-4569-9783-6bc9e517e1f4",
   "metadata": {},
   "source": [
    "## Compute Woods Hole \"climate index\""
   ]
  },
  {
   "cell_type": "markdown",
   "id": "b34220e4-2415-4a5a-bc68-8e987697b136",
   "metadata": {},
   "source": [
    "### Write function to compute the index from global data"
   ]
  },
  {
   "cell_type": "code",
   "execution_count": null,
   "id": "73fd76f2-90c8-48f4-8fe8-cb7d8bdd948f",
   "metadata": {},
   "outputs": [],
   "source": [
    "def get_WH_idx(sst):\n",
    "    \"\"\"\n",
    "    Input: 'sst' is a 3-D DataArray (lon,lat,time)\n",
    "\n",
    "    Output: 'climate_index' is a 1-D DataArray (time)\n",
    "    \"\"\"\n",
    "\n",
    "    ## Get temperature in grid cell near Woods Hole\n",
    "    sst_idx = sst.sel(latitude=41.5, longitude=288.5, method=\"nearest\").compute()\n",
    "\n",
    "    ## Remove monthly mean (climatology)\n",
    "    sst_idx_clim = sst_idx.groupby(\"time.month\").mean()\n",
    "    sst_idx = sst_idx.groupby(\"time.month\") - sst_idx_clim\n",
    "\n",
    "    return sst_idx"
   ]
  },
  {
   "cell_type": "markdown",
   "id": "9fb99480-5ed4-4afd-bf5f-4dce0aecadf6",
   "metadata": {},
   "source": [
    "### Compute the index"
   ]
  },
  {
   "cell_type": "code",
   "execution_count": null,
   "id": "5c5b4cb6-4f68-4c7b-bed1-2021ac19d01c",
   "metadata": {},
   "outputs": [],
   "source": [
    "sst_WH = get_WH_idx(sst).compute()"
   ]
  },
  {
   "cell_type": "markdown",
   "id": "b26efc34-a31d-459c-a9c0-119a08fe69ef",
   "metadata": {},
   "source": [
    "### Plot the result"
   ]
  },
  {
   "cell_type": "code",
   "execution_count": null,
   "id": "38b04d49-ffb8-4286-9e9d-5a1397ffcb6c",
   "metadata": {},
   "outputs": [],
   "source": [
    "fig, ax = plt.subplots(figsize=(4, 3))\n",
    "\n",
    "## Plot the data\n",
    "ax.plot(sst_WH.time, sst_WH, lw=0.7)\n",
    "\n",
    "## add line at y=0\n",
    "ax.axhline(0, ls=\"--\", c=\"k\", lw=1)\n",
    "\n",
    "## label axes\n",
    "ax.set_title(r\"Woods Hole SST anomaly\")\n",
    "ax.set_ylabel(r\"$K$\")\n",
    "\n",
    "## label x-axis\n",
    "ax.set_xticks([datetime.date(y, 1, 1) for y in [1850, 1935, 2020]])\n",
    "ax.xaxis.set_major_formatter(mdates.DateFormatter(\"%Y\"))\n",
    "\n",
    "plt.show()"
   ]
  }
 ],
 "metadata": {
  "kernelspec": {
   "display_name": "Python 3 (ipykernel)",
   "language": "python",
   "name": "python3"
  },
  "language_info": {
   "codemirror_mode": {
    "name": "ipython",
    "version": 3
   },
   "file_extension": ".py",
   "mimetype": "text/x-python",
   "name": "python",
   "nbconvert_exporter": "python",
   "pygments_lexer": "ipython3",
   "version": "3.11.12"
  }
 },
 "nbformat": 4,
 "nbformat_minor": 5
}
