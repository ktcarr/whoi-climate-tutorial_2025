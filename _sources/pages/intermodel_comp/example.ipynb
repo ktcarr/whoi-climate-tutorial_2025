{
 "cells": [
  {
   "cell_type": "markdown",
   "id": "e7fe68a3-a1e0-45e5-aa9c-d32f1c930f56",
   "metadata": {},
   "source": [
    "# Intermodel comparison example"
   ]
  },
  {
   "cell_type": "markdown",
   "id": "2b513de2-4739-4469-b4b4-e8e2b07716f5",
   "metadata": {},
   "source": [
    "## Packages"
   ]
  },
  {
   "cell_type": "code",
   "execution_count": null,
   "id": "d401ca27-d892-49ef-8a3d-9d460f292d50",
   "metadata": {},
   "outputs": [],
   "source": [
    "import xarray as xr\n",
    "import cftime\n",
    "import os.path\n",
    "import pandas as pd\n",
    "import numpy as np\n",
    "import time\n",
    "import matplotlib.pyplot as plt\n",
    "import seaborn as sns\n",
    "import pathlib\n",
    "\n",
    "sns.set(rc={\"axes.facecolor\": \"white\", \"axes.grid\": False})"
   ]
  },
  {
   "cell_type": "markdown",
   "id": "b167e770-b9e3-418f-b43b-b76b05932ffa",
   "metadata": {},
   "source": [
    "## Filepaths"
   ]
  },
  {
   "cell_type": "code",
   "execution_count": null,
   "id": "4f11c31e-8e9d-49b1-8774-5e97fda23cd4",
   "metadata": {},
   "outputs": [],
   "source": [
    "## Get prefix common to all filepaths\n",
    "prefix = pathlib.Path(\"/Volumes/cmip6/data/cmip6/CMIP\")\n",
    "\n",
    "## function to add prefix to path\n",
    "add_prefix = lambda path: prefix / pathlib.Path(path)\n",
    "\n",
    "## finally, a dictionary with the filepaths\n",
    "fp_dict = {\n",
    "    \"CSIRO\": add_prefix(\"CSIRO/ACCESS-ESM1-5/1pctCO2/r1i1p1f1/Amon/tas/gn/1\"),\n",
    "    \"NCAR\": add_prefix(\"NCAR/CESM2/1pctCO2/r1i1p1f1/Amon/tas/gn/1\"),\n",
    "    \"MIROC\": add_prefix(\"MIROC/MIROC6/1pctCO2/r1i1p1f1/Amon/tas/gn/1\"),\n",
    "    \"MPI\": add_prefix(\"MPI-M/MPI-ESM1-2-LR/1pctCO2/r1i1p1f1/Amon/tas/gn/1\"),\n",
    "    \"IPSL\": add_prefix(\"IPSL/IPSL-CM6A-LR/1pctCO2/r1i1p1f1/Amon/tas/gr/1\"),\n",
    "    \"NASA\": add_prefix(\"NASA-GISS/GISS-E2-2-G/1pctCO2/r1i1p1f1/Amon/tas/gn/1\"),\n",
    "}\n",
    "\n",
    "## Get list of models\n",
    "models = list(fp_dict)"
   ]
  },
  {
   "cell_type": "markdown",
   "id": "3b9245b7-ab18-43f4-8953-35e466cc3917",
   "metadata": {},
   "source": [
    "## Climate index"
   ]
  },
  {
   "cell_type": "code",
   "execution_count": null,
   "id": "ea95a1f0-c052-4c41-8fdb-fe27b7cc6fa7",
   "metadata": {},
   "outputs": [],
   "source": [
    "def WH_index(T2m):\n",
    "    \"\"\"Function to compute 'Woods Hole climate index. We'll define\n",
    "    this index as the annual-average temperature in the gridcell\n",
    "    closest to the (lon, lat) point (288.5, 41.5).\n",
    "\n",
    "    Args:\n",
    "        T2m: xr.DataArray with dimensions (lon, lat, time)\n",
    "\n",
    "    Returns:\n",
    "        T2m_WH: xr. DataArray with dimension (year)\n",
    "    \"\"\"\n",
    "\n",
    "    ## first, interpolate close to Woods Hole\n",
    "    T2m_WH = T2m.interp(lat=41.5, lon=288.5, method=\"nearest\")\n",
    "\n",
    "    ## then, get annual average\n",
    "    T2m_WH = T2m_WH.groupby(\"time.year\").mean()\n",
    "\n",
    "    return T2m_WH"
   ]
  },
  {
   "cell_type": "markdown",
   "id": "1915ee0f-e4bc-4b73-b4a2-a396932ca906",
   "metadata": {},
   "source": [
    "## Compute climate index"
   ]
  },
  {
   "cell_type": "markdown",
   "id": "4054b0d1-57c3-402c-95e2-71caa863980b",
   "metadata": {},
   "source": [
    "### Loop through models"
   ]
  },
  {
   "cell_type": "code",
   "execution_count": null,
   "id": "c81b297a-fc67-421a-a0b5-425a916334a7",
   "metadata": {},
   "outputs": [],
   "source": [
    "## empty list to hold result\n",
    "T2m_idx = []\n",
    "\n",
    "## loop through each (model, filepath) pair\n",
    "for model, fp in fp_dict.items():\n",
    "\n",
    "    ## get file pattern\n",
    "    file_pattern = os.path.join(fp, \"*.nc\")\n",
    "\n",
    "    ## open dataset and append to list\n",
    "    T2m_idx.append(\n",
    "        xr.open_mfdataset(\n",
    "            os.path.join(fp, \"*.nc\"),\n",
    "            use_cftime=True,\n",
    "            mask_and_scale=False,\n",
    "            preprocess=WH_index,\n",
    "        )[\"tas\"]\n",
    "    )"
   ]
  },
  {
   "cell_type": "markdown",
   "id": "e6d041f1-ed43-46e1-8dc0-fac522a842ec",
   "metadata": {},
   "source": [
    "### Combine in single data array"
   ]
  },
  {
   "cell_type": "code",
   "execution_count": null,
   "id": "e163b382-816e-41d4-b675-3fa78ca9f689",
   "metadata": {},
   "outputs": [],
   "source": [
    "def reset_year(T2m):\n",
    "    \"\"\"Function to reset year to start at 1850\"\"\"\n",
    "\n",
    "    ## get new time index\n",
    "    updated_year = np.arange(1850, 1850 + len(T2m.year))\n",
    "\n",
    "    ## add to array\n",
    "    T2m[\"year\"] = updated_year\n",
    "\n",
    "    return T2m\n",
    "\n",
    "\n",
    "## concatenate in dataset\n",
    "T2m_idx = [reset_year(x) for x in T2m_idx]\n",
    "T2m_idx = xr.concat(T2m_idx, dim=pd.Index(models, name=\"model\"), coords=\"minimal\")\n",
    "\n",
    "## Drop unnecessary coordinates\n",
    "T2m_idx = T2m_idx.drop_vars([\"height\", \"lon\", \"lat\"])\n",
    "\n",
    "## Load into memory\n",
    "start = time.time()\n",
    "T2m_idx.load()\n",
    "end = time.time()\n",
    "print(end - start)"
   ]
  },
  {
   "cell_type": "markdown",
   "id": "86c17ef9-a86c-47f6-8479-48440a767092",
   "metadata": {},
   "source": [
    "### Normalized version of data"
   ]
  },
  {
   "cell_type": "code",
   "execution_count": null,
   "id": "ce45abf9-9700-43fd-8d2c-3ef7aeda5fbf",
   "metadata": {},
   "outputs": [],
   "source": [
    "## normalize by removing mean of first 30 years\n",
    "T2m_idx_baseline = T2m_idx.isel(year=slice(None, 30)).mean(\"year\")\n",
    "T2m_idx_norm = T2m_idx - T2m_idx_baseline"
   ]
  },
  {
   "cell_type": "markdown",
   "id": "64a5bf46-a662-477c-8118-865bc012e247",
   "metadata": {},
   "source": [
    "## Plot results"
   ]
  },
  {
   "cell_type": "code",
   "execution_count": null,
   "id": "5d82e6c9-a14d-4aac-9828-65b6d39aa138",
   "metadata": {},
   "outputs": [],
   "source": [
    "fig, axs = plt.subplots(1, 2, figsize=(8, 3))\n",
    "\n",
    "## first, plot the raw data; then, plot the normalized data\n",
    "for i, data in enumerate([T2m_idx, T2m_idx_norm]):\n",
    "\n",
    "    ## loop through each model\n",
    "    for model in data.model:\n",
    "\n",
    "        axs[i].plot(data.year, data.sel(model=model), label=model.item(), lw=1)\n",
    "\n",
    "## plot ensemble mean\n",
    "axs[1].plot(data.year, data.mean(\"model\"), label=\"mean\", lw=2, c=\"k\")\n",
    "axs[1].set_xlim([None, 1999])\n",
    "\n",
    "## add legend\n",
    "axs[1].legend(prop={\"size\": 8})\n",
    "\n",
    "plt.show()"
   ]
  }
 ],
 "metadata": {
  "kernelspec": {
   "display_name": "Python 3 (ipykernel)",
   "language": "python",
   "name": "python3"
  },
  "language_info": {
   "codemirror_mode": {
    "name": "ipython",
    "version": 3
   },
   "file_extension": ".py",
   "mimetype": "text/x-python",
   "name": "python",
   "nbconvert_exporter": "python",
   "pygments_lexer": "ipython3",
   "version": "3.11.12"
  }
 },
 "nbformat": 4,
 "nbformat_minor": 5
}
