{
 "cells": [
  {
   "cell_type": "code",
   "execution_count": 1,
   "id": "493a3872-cfe2-4d5c-b9cc-32b4b22e7cc8",
   "metadata": {},
   "outputs": [],
   "source": [
    "import pathlib\n",
    "import numpy as np\n",
    "import xarray as xr\n",
    "import datetime\n",
    "import pandas as pd\n",
    "import copy\n",
    "import matplotlib.pyplot as plt\n",
    "import matplotlib.ticker as mticker\n",
    "import cartopy.crs as ccrs"
   ]
  },
  {
   "cell_type": "markdown",
   "id": "c43d6d4f-3ed0-4901-af1d-53c7de6edd09",
   "metadata": {},
   "source": [
    "#### Plotting functions"
   ]
  },
  {
   "cell_type": "code",
   "execution_count": 2,
   "id": "b7ae499c-de3d-4476-843b-b2122f6cb857",
   "metadata": {},
   "outputs": [],
   "source": [
    "def plot_setup(fig, projection, lon_range, lat_range, xticks=None, yticks=None):\n",
    "    \"\"\"Add a subplot to the figure with the given map projection\n",
    "    and lon/lat range. Returns an Axes object.\"\"\"\n",
    "\n",
    "    ## increase resolution for projection\n",
    "    ## (otherwise lines plotted on surface won't follow curved trajectories)\n",
    "    projection.threshold /= 1000\n",
    "\n",
    "    ## Create subplot with given projection\n",
    "    ax = fig.add_subplot(projection=projection)\n",
    "\n",
    "    ## Subset to given region\n",
    "    extent = [*lon_range, *lat_range]\n",
    "    ax.set_extent(extent, crs=ccrs.PlateCarree())\n",
    "\n",
    "    ## draw coastlines\n",
    "    ax.coastlines(linewidths=0.5)\n",
    "\n",
    "    ## add tick labels\n",
    "    if xticks is not None:\n",
    "\n",
    "        ## add lon/lat labels\n",
    "        gl = ax.gridlines(\n",
    "            draw_labels=True,\n",
    "            linestyle=\"-\",\n",
    "            alpha=0.1,\n",
    "            linewidth=0.5,\n",
    "            color=\"k\",\n",
    "            zorder=1.05,\n",
    "        )\n",
    "\n",
    "        ## specify which axes to label\n",
    "        gl.top_labels = False\n",
    "        gl.right_labels = False\n",
    "\n",
    "        ## specify ticks\n",
    "        gl.ylocator = mticker.FixedLocator(yticks)\n",
    "        gl.xlocator = mticker.FixedLocator(xticks)\n",
    "\n",
    "    return ax\n",
    "\n",
    "\n",
    "def plot_setup_atlantic(fig):\n",
    "    \"\"\"Plot Atlantic region\"\"\"\n",
    "\n",
    "    ## adjust figure size\n",
    "    fig.set_size_inches(5, 3)\n",
    "\n",
    "    ## specify map projection\n",
    "    proj = ccrs.PlateCarree(central_longitude=0)\n",
    "\n",
    "    ## get ax object\n",
    "    ax = plot_setup(\n",
    "        fig,\n",
    "        proj,\n",
    "        lon_range=[-60, 20],\n",
    "        lat_range=[-20, 20],\n",
    "        xticks=[-50, -30, -10, 10],\n",
    "        yticks=[-10, 0, 10],\n",
    "    )\n",
    "\n",
    "    return fig, ax"
   ]
  },
  {
   "cell_type": "markdown",
   "id": "0db1852f-b48f-469e-aabf-1587c3b493b6",
   "metadata": {},
   "source": [
    "#### (original) data loading functions"
   ]
  },
  {
   "cell_type": "code",
   "execution_count": 3,
   "id": "8eb3bac2-d625-4c7d-8ef9-5d00dc35068c",
   "metadata": {},
   "outputs": [],
   "source": [
    "def load_simulation(varname, member_id, simulation_type, preprocess_func=None):\n",
    "    \"\"\"\n",
    "    Load dataset for single simulation, for single variable.\n",
    "    Arguments:\n",
    "        - varname: name of variable to load, one of {\"SST\",\"PSL\"}\n",
    "        - member_id: ID of ensemble member to load, an integer in the range [1,10]\n",
    "        - simulation_type: one of {\"hist\", \"rcp85\"}\n",
    "        - preprocess func: optional preprocessing function to apply to the simulation\n",
    "    Returns:\n",
    "        - xarray dataarray with given data\n",
    "    \"\"\"\n",
    "\n",
    "    ## Filepath to the CESM LENS dataset\n",
    "    lens_fp = pathlib.Path(\"cmip6/data/cmip6/CMIP/NCAR/LENS\")\n",
    "\n",
    "    #### 1. get filepath to data\n",
    "    data_fp = SERVER_FP / lens_fp / pathlib.Path(varname)\n",
    "\n",
    "    #### 2. get naming pattern for files to open\n",
    "    if simulation_type == \"hist\":\n",
    "        file_pattern = f\"*20TRC*.{member_id:03d}.*.nc\"\n",
    "\n",
    "    elif simulation_type == \"rcp85\":\n",
    "        file_pattern = f\"*RCP85*.{member_id:03d}.*.nc\"\n",
    "\n",
    "    else:\n",
    "        print(\"Not a valid simulation type\")\n",
    "\n",
    "    #### 3. open the relevant datasets, applying preprocessing function\n",
    "    data = xr.open_mfdataset(\n",
    "        paths=data_fp.glob(file_pattern),\n",
    "        preprocess=preprocess_func,\n",
    "        chunks={\"time\": 60},\n",
    "    )\n",
    "\n",
    "    return data[varname].squeeze(drop=True)\n",
    "\n",
    "\n",
    "def load_ensemble_helper(varname, simulation_type, preprocess_func=None):\n",
    "    \"\"\"\n",
    "    Load all ensemble members for given simulation type and variable.\n",
    "    Arguments:\n",
    "        - varname: name of variable to load, one of {\"SST\",\"PSL\"}\n",
    "        - simulation_type: one of {\"hist\", \"rcp85\"}\n",
    "        - preprocess func: optional preprocessing function to apply to the simulation\n",
    "    Returns:\n",
    "        - xarray dataarray with given data and 'ensemble' dimension\n",
    "    \"\"\"\n",
    "\n",
    "    ## put arguments in dictionary\n",
    "    kwargs = dict(\n",
    "        varname=varname,\n",
    "        simulation_type=simulation_type,\n",
    "        preprocess_func=preprocess_func,\n",
    "    )\n",
    "\n",
    "    ## put results in list\n",
    "    data = [load_simulation(member_id=i, **kwargs) for i in np.arange(1, 11)]\n",
    "\n",
    "    ## concatenate data along the \"ensemble\" dimension\n",
    "    ensemble_dim = pd.Index(np.arange(1, 11), name=\"member\")\n",
    "    data = xr.concat(data, dim=ensemble_dim)\n",
    "\n",
    "    return data\n",
    "\n",
    "\n",
    "def load_ensemble(varname, simulation_type, preprocess_func=None, save_fp=None):\n",
    "    \"\"\"\n",
    "    Load all ensemble members for given simulation type and variable.\n",
    "    (Checks if data exists locally first).\n",
    "    Arguments:\n",
    "        - varname: name of variable to load, one of {\"SST\",\"PSL\"}\n",
    "        - simulation_type: one of {\"hist\", \"rcp85\"}\n",
    "        - preprocess func: optional preprocessing function to apply to the simulation\n",
    "        - save_fp: pathlib.Path object (save the result here if specified)\n",
    "    Returns:\n",
    "        - xarray dataarray with given data and 'ensemble' dimension\n",
    "    \"\"\"\n",
    "\n",
    "    ## put arguments in dictionary\n",
    "    kwargs = dict(\n",
    "        varname=varname,\n",
    "        simulation_type=simulation_type,\n",
    "        preprocess_func=preprocess_func,\n",
    "    )\n",
    "\n",
    "    ## load pre-computed data if it exists\n",
    "    if save_fp is not None:\n",
    "\n",
    "        ## path to file\n",
    "        save_fp = save_fp / f\"{varname}_{simulation_type}.nc\"\n",
    "\n",
    "        ## check if file exists:\n",
    "        if save_fp.is_file():\n",
    "            data = xr.open_dataarray(save_fp)\n",
    "\n",
    "        else:\n",
    "\n",
    "            ## load the data and save to file for next time\n",
    "            data = load_ensemble_helper(**kwargs)\n",
    "\n",
    "            print(\"saving to file\")\n",
    "            data.to_netcdf(save_fp)\n",
    "\n",
    "    else:\n",
    "\n",
    "        ## don't load/save the data\n",
    "        data = load_ensemble_helper(**kwargs)\n",
    "\n",
    "    return data\n",
    "\n",
    "\n",
    "def preprocess(data):\n",
    "    \"\"\"\n",
    "    Preprocessing steps:\n",
    "        1. remove data before Feb 1920\n",
    "        2. trim in lon/lat space\n",
    "        3. convert time dimension from cftime to datetime\n",
    "    \"\"\"\n",
    "\n",
    "    ## trim in time\n",
    "    data_ = data.sel(time=slice(\"1920-02\", None))\n",
    "\n",
    "    ## trim in space\n",
    "    data_ = trim(data_)\n",
    "\n",
    "    ## update time dimension\n",
    "    start_year = data_.time.isel(time=0).dt.year.item()\n",
    "    start_month = data_.time.isel(time=0).dt.month.item()\n",
    "    start_date = f\"{start_year}-{start_month}-01\"\n",
    "    data_[\"time\"] = pd.date_range(start=start_date, periods=len(data_.time), freq=\"MS\")\n",
    "\n",
    "    return data_"
   ]
  },
  {
   "cell_type": "markdown",
   "id": "207a139e-c336-48d8-8b52-ba91a7a2b114",
   "metadata": {},
   "source": [
    "#### (some additional) data loading functions, for Atlantic"
   ]
  },
  {
   "cell_type": "code",
   "execution_count": 4,
   "id": "74371a20-31ea-4180-adda-7a17fcdf6af5",
   "metadata": {},
   "outputs": [],
   "source": [
    "def trim(data):\n",
    "    \"\"\"select part of data in given longitude/latitude range\"\"\"\n",
    "\n",
    "    ## check if data is on the \"T\"-grid\n",
    "    on_Tgrid = \"TLONG\" in data.coords\n",
    "\n",
    "    ## handle trimming for T-grid\n",
    "    if on_Tgrid:\n",
    "\n",
    "        ## find gridcells in lon range or in lat range\n",
    "        in_lon_range = (data[\"TLONG\"] >= 300) | (data[\"TLONG\"] <= 20)\n",
    "        in_lat_range = (data[\"TLAT\"] >= -20) & (data[\"TLAT\"] <= 20)\n",
    "\n",
    "        ## find cells in lon range AND in lat range\n",
    "        in_lonlat_range = in_lon_range & in_lat_range\n",
    "\n",
    "        ## load to memory\n",
    "        in_lonlat_range.load()\n",
    "\n",
    "        ## Retain all points with at least one valid grid cell\n",
    "        x_idx = in_lonlat_range.any(\"nlat\")\n",
    "        y_idx = in_lonlat_range.any(\"nlon\")\n",
    "\n",
    "        ## select given points\n",
    "        return data.isel(nlon=x_idx, nlat=y_idx)\n",
    "\n",
    "    else:\n",
    "        return data.sel(lon=slice(*lon_range), lat=slice(*lat_range))\n",
    "\n",
    "\n",
    "def swap_longitude_range_TLONG(data):\n",
    "    \"\"\"swap longitude range of xr.DataArray from [0,360) to (-180, 180].\n",
    "    Handles case with 2-dimension longitude coordinates ('TLONG')\"\"\"\n",
    "\n",
    "    ## make copy of longitude coordinate to be modified\n",
    "    TLONG_new = copy.deepcopy(data.TLONG.values)\n",
    "\n",
    "    ## relabel values greater than 180\n",
    "    exceeds_180 = TLONG_new > 180\n",
    "    TLONG_new[exceeds_180] = -360 + TLONG_new[exceeds_180]\n",
    "\n",
    "    ## Update the coordinate on the xarray object\n",
    "    data[\"TLONG\"].values = TLONG_new\n",
    "\n",
    "    ## next, transpose data so that longitude is last dimension\n",
    "    ## (we'll do all the sorting along this dimension)\n",
    "    data = data.transpose(..., \"nlon\")\n",
    "\n",
    "    ## Get indices needed to sort longitude to be monotonic increasing\n",
    "    TLONG_sort_idx = np.argsort(data[\"TLONG\"].values, axis=-1)\n",
    "\n",
    "    ## sort the lon/lat coordindates\n",
    "    sort = lambda X, idx: np.take_along_axis(X.values, indices=idx, axis=-1)\n",
    "    data[\"TLONG\"].values = sort(data[\"TLONG\"], idx=TLONG_sort_idx)\n",
    "    data[\"TLAT\"].values = sort(data[\"TLAT\"], idx=TLONG_sort_idx)\n",
    "\n",
    "    #### sort the SST data\n",
    "\n",
    "    # first, check to see if data has more than two dimensions\n",
    "    if data.ndim > 2:\n",
    "        extra_dims = [i for i in range(data.ndim - 2)]\n",
    "        TLONG_sort_idx = np.expand_dims(TLONG_sort_idx, axis=extra_dims)\n",
    "\n",
    "    ## now, do the actual sorting\n",
    "    data.values = sort(data, idx=TLONG_sort_idx)\n",
    "\n",
    "    return data"
   ]
  },
  {
   "cell_type": "markdown",
   "id": "e91c0680-bd89-4a50-9554-6e510b81b801",
   "metadata": {},
   "source": [
    "## Filepaths"
   ]
  },
  {
   "cell_type": "code",
   "execution_count": 5,
   "id": "454e6e5a-dc16-4a22-a510-7e99c3a5d76f",
   "metadata": {},
   "outputs": [],
   "source": [
    "## Path to file server\n",
    "SERVER_FP = pathlib.Path(\"/Volumes\")\n",
    "\n",
    "## Specify folder location for saving trimmed data (\"./\" means current directory)\n",
    "save_fp = pathlib.Path(\"./atlantic\")"
   ]
  },
  {
   "cell_type": "markdown",
   "id": "1c8e315a-d832-422d-acb5-4967f74a17cf",
   "metadata": {},
   "source": [
    "## Load the data"
   ]
  },
  {
   "cell_type": "code",
   "execution_count": 6,
   "id": "a0b806b7-67a2-4d26-b2b2-4369a346d2fb",
   "metadata": {},
   "outputs": [],
   "source": [
    "## Load data\n",
    "data_hist = load_ensemble(\"SST\", \"hist\", preprocess_func=preprocess, save_fp=save_fp)\n",
    "data_rcp = load_ensemble(\"SST\", \"rcp85\", preprocess_func=preprocess, save_fp=save_fp)\n",
    "\n",
    "## Optional: load into memory (warning: may be slow!)\n",
    "data_hist.load()\n",
    "data_rcp.load();"
   ]
  },
  {
   "cell_type": "markdown",
   "id": "5aefc28c-8004-41bf-8b8b-af6b2877569f",
   "metadata": {},
   "source": [
    "## Plot a sample"
   ]
  },
  {
   "cell_type": "markdown",
   "id": "8898f354-692d-4321-85cb-0f93413466cf",
   "metadata": {},
   "source": [
    "### Try plotting on original coordinates"
   ]
  },
  {
   "cell_type": "code",
   "execution_count": 7,
   "id": "289e94f4-7117-461e-bcad-13a6896063bf",
   "metadata": {},
   "outputs": [
    {
     "data": {
      "image/png": "[encoded data removed]",
      "text/plain": [
       "<Figure size 500x300 with 1 Axes>"
      ]
     },
     "metadata": {},
     "output_type": "display_data"
    }
   ],
   "source": [
    "fig = plt.figure(figsize=(7, 5))\n",
    "fig, ax = plot_setup_atlantic(fig)\n",
    "\n",
    "ax.pcolormesh(\n",
    "    data_hist[\"TLONG\"],\n",
    "    data_hist[\"TLAT\"],\n",
    "    data_hist.mean([\"time\", \"member\"]),\n",
    "    transform=ccrs.PlateCarree(),\n",
    ")\n",
    "\n",
    "plt.show()"
   ]
  },
  {
   "cell_type": "markdown",
   "id": "ee736162-c13c-4f87-be21-6d195c90a930",
   "metadata": {},
   "source": [
    "### update longitude coordinates"
   ]
  },
  {
   "cell_type": "code",
   "execution_count": 8,
   "id": "85de33cb-4f34-4702-af75-583160f0298b",
   "metadata": {},
   "outputs": [],
   "source": [
    "data_hist = swap_longitude_range_TLONG(data_hist)\n",
    "data_rcp = swap_longitude_range_TLONG(data_rcp)"
   ]
  },
  {
   "cell_type": "markdown",
   "id": "73995f89-118a-465e-95f1-9cb575d885fb",
   "metadata": {},
   "source": [
    "### Plot on updated coordinates"
   ]
  },
  {
   "cell_type": "code",
   "execution_count": 9,
   "id": "5d395abe-d1e3-4144-b6ac-2d12c2f396cf",
   "metadata": {},
   "outputs": [
    {
     "data": {
      "text/plain": [
       "<cartopy.mpl.geocollection.GeoQuadMesh at 0x14af00910>"
      ]
     },
     "execution_count": 9,
     "metadata": {},
     "output_type": "execute_result"
    },
    {
     "data": {
      "image/png": "[encoded data removed]",
      "text/plain": [
       "<Figure size 500x300 with 1 Axes>"
      ]
     },
     "metadata": {},
     "output_type": "display_data"
    }
   ],
   "source": [
    "fig = plt.figure(figsize=(7, 5))\n",
    "fig, ax = plot_setup_atlantic(fig)\n",
    "\n",
    "ax.pcolormesh(\n",
    "    data_hist[\"TLONG\"],\n",
    "    data_hist[\"TLAT\"],\n",
    "    data_hist.mean([\"time\", \"member\"]),\n",
    "    transform=ccrs.PlateCarree(),\n",
    ")"
   ]
  }
 ],
 "metadata": {
  "kernelspec": {
   "display_name": "Python 3 (ipykernel)",
   "language": "python",
   "name": "python3"
  },
  "language_info": {
   "codemirror_mode": {
    "name": "ipython",
    "version": 3
   },
   "file_extension": ".py",
   "mimetype": "text/x-python",
   "name": "python",
   "nbconvert_exporter": "python",
   "pygments_lexer": "ipython3",
   "version": "3.11.10"
  }
 },
 "nbformat": 4,
 "nbformat_minor": 5
}
